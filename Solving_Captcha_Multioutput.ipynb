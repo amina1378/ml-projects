{
  "nbformat": 4,
  "nbformat_minor": 0,
  "metadata": {
    "accelerator": "GPU",
    "colab": {
      "name": "Solving Captcha-Multioutput.ipynb",
      "provenance": []
    },
    "kernelspec": {
      "display_name": "Python 3",
      "name": "python3"
    }
  },
  "cells": [
    {
      "cell_type": "code",
      "metadata": {
        "id": "wvfAVYc-Zf4z"
      },
      "source": [
        "#from pyunpack import Archive\n",
        "#Archive('/content/drive/MyDrive/Ata.rar').extractall('/content/drive/MyDrive/')"
      ],
      "execution_count": null,
      "outputs": []
    },
    {
      "cell_type": "code",
      "metadata": {
        "id": "6ic5WSbweeCT"
      },
      "source": [
        "import numpy as np\n",
        "import pandas as pd\n",
        "import cv2\n",
        "from tensorflow import keras\n",
        "from tqdm import tqdm"
      ],
      "execution_count": null,
      "outputs": []
    },
    {
      "cell_type": "code",
      "metadata": {
        "id": "hSqANvBFe3N6"
      },
      "source": [
        "input = keras.layers.Input(shape=(42, 175, 1))\n",
        "x = keras.layers.Conv2D(32, (5,5),padding='valid',activation='relu')(input)\n",
        "x = keras.layers.MaxPooling2D((2,2),padding='same')(x)\n",
        "x = keras.layers.Conv2D(64, (3,3),padding='same',activation='relu')(x)\n",
        "x = keras.layers.MaxPooling2D((2,2),padding='same')(x)\n",
        "x = keras.layers.Conv2D(128, (3,3),padding='same',activation='relu')(x)\n",
        "maxpool = keras.layers.MaxPooling2D((2,2),padding='same')(x)\n",
        "outputs = []\n",
        "for i in range(5):\n",
        "    x = keras.layers.Conv2D(256, (3,3),padding='same',activation='relu')(maxpool)\n",
        "    x = keras.layers.MaxPooling2D((2,2),padding='same')(x)\n",
        "    x = keras.layers.Flatten()(x)\n",
        "    x = keras.layers.Dropout(0.5)(x)\n",
        "    x = keras.layers.BatchNormalization()(x)\n",
        "    x = keras.layers.Dense(64, activation='relu')(x)\n",
        "    x = keras.layers.Dropout(0.5)(x)\n",
        "    x = keras.layers.BatchNormalization()(x)\n",
        "    x = keras.layers.Dense(10 , activation='softmax' , name=f'char_{i+1}')(x)\n",
        "    outputs.append(x)\n",
        "    \n",
        "model = keras.models.Model(inputs = input , outputs=outputs)"
      ],
      "execution_count": null,
      "outputs": []
    },
    {
      "cell_type": "code",
      "metadata": {
        "id": "2oBiqZwke42E"
      },
      "source": [
        "import os"
      ],
      "execution_count": null,
      "outputs": []
    },
    {
      "cell_type": "code",
      "metadata": {
        "id": "9-N1PjZ0e6Iy"
      },
      "source": [
        "filedir = '/content/drive/MyDrive/Ata/'"
      ],
      "execution_count": null,
      "outputs": []
    },
    {
      "cell_type": "code",
      "metadata": {
        "id": "dQukf-ine9MT"
      },
      "source": [
        "lidir = [filedir+i for i in os.listdir(filedir)]"
      ],
      "execution_count": null,
      "outputs": []
    },
    {
      "cell_type": "code",
      "metadata": {
        "id": "fNcHUdiNe-wf"
      },
      "source": [
        "y = np.zeros((len(lidir), 5, 10))"
      ],
      "execution_count": null,
      "outputs": []
    },
    {
      "cell_type": "code",
      "metadata": {
        "id": "OcR53lVWe_r6"
      },
      "source": [
        "X = []"
      ],
      "execution_count": null,
      "outputs": []
    },
    {
      "cell_type": "code",
      "metadata": {
        "colab": {
          "base_uri": "https://localhost:8080/"
        },
        "id": "Qk4XVivofAr1",
        "outputId": "5cecb4bd-aac4-4ff9-c188-16435baa9519"
      },
      "source": [
        "for i in tqdm(range(len(lidir))):\n",
        "    img = cv2.imread(lidir[i], 0)\n",
        "    img = np.array(img)/255.0\n",
        "    X.append(img)\n",
        "    a = lidir[i].split('/')[-1].split('.')[0]\n",
        "    for j in range(len(a)):\n",
        "        y[i][j][int(a[j])] = 1\n",
        "X = np.array(X).reshape(-1, 42, 175, 1)"
      ],
      "execution_count": null,
      "outputs": [
        {
          "output_type": "stream",
          "text": [
            "100%|██████████| 991/991 [00:02<00:00, 474.04it/s]\n"
          ],
          "name": "stderr"
        }
      ]
    },
    {
      "cell_type": "code",
      "metadata": {
        "id": "cytR6xgpfCQu"
      },
      "source": [
        "y1 = y[:, 0, :]\n",
        "y2 = y[:, 1, :]\n",
        "y3 = y[:, 2, :]\n",
        "y4 = y[:, 3, :]\n",
        "y5 = y[:, 4, :]"
      ],
      "execution_count": null,
      "outputs": []
    },
    {
      "cell_type": "code",
      "metadata": {
        "id": "SjogNvKdfDqz"
      },
      "source": [
        "model.compile(loss='categorical_crossentropy', optimizer=keras.optimizers.Adam(lr=0.0001), loss_weights=[1,1,1,1,1], metrics=['accuracy'])"
      ],
      "execution_count": null,
      "outputs": []
    },
    {
      "cell_type": "code",
      "metadata": {
        "colab": {
          "base_uri": "https://localhost:8080/"
        },
        "id": "1hEyTZ3vfE6y",
        "outputId": "e4a6a5ad-dd1e-4378-f1a2-92d4fb3a661e"
      },
      "source": [
        "\n",
        "hist = model.fit(x=X, y=[y1, y2, y3, y4, y5], epochs=100, validation_split=0.2)"
      ],
      "execution_count": null,
      "outputs": [
        {
          "output_type": "stream",
          "text": [
            "Epoch 1/100\n",
            "25/25 [==============================] - 5s 54ms/step - loss: 0.1050 - char_1_loss: 0.0115 - char_2_loss: 0.0179 - char_3_loss: 0.0220 - char_4_loss: 0.0346 - char_5_loss: 0.0190 - char_1_accuracy: 0.9974 - char_2_accuracy: 0.9976 - char_3_accuracy: 0.9982 - char_4_accuracy: 0.9972 - char_5_accuracy: 0.9973 - val_loss: 1.4407 - val_char_1_loss: 0.2141 - val_char_2_loss: 0.4345 - val_char_3_loss: 0.3694 - val_char_4_loss: 0.2788 - val_char_5_loss: 0.1440 - val_char_1_accuracy: 0.9397 - val_char_2_accuracy: 0.8744 - val_char_3_accuracy: 0.9196 - val_char_4_accuracy: 0.9296 - val_char_5_accuracy: 0.9397\n",
            "Epoch 2/100\n",
            "25/25 [==============================] - 1s 25ms/step - loss: 0.0851 - char_1_loss: 0.0178 - char_2_loss: 0.0189 - char_3_loss: 0.0129 - char_4_loss: 0.0175 - char_5_loss: 0.0180 - char_1_accuracy: 0.9986 - char_2_accuracy: 0.9991 - char_3_accuracy: 0.9999 - char_4_accuracy: 0.9985 - char_5_accuracy: 0.9986 - val_loss: 1.4625 - val_char_1_loss: 0.2020 - val_char_2_loss: 0.4451 - val_char_3_loss: 0.3677 - val_char_4_loss: 0.2990 - val_char_5_loss: 0.1488 - val_char_1_accuracy: 0.9397 - val_char_2_accuracy: 0.8894 - val_char_3_accuracy: 0.9196 - val_char_4_accuracy: 0.9196 - val_char_5_accuracy: 0.9397\n",
            "Epoch 3/100\n",
            "25/25 [==============================] - 1s 25ms/step - loss: 0.0875 - char_1_loss: 0.0183 - char_2_loss: 0.0118 - char_3_loss: 0.0187 - char_4_loss: 0.0258 - char_5_loss: 0.0129 - char_1_accuracy: 0.9950 - char_2_accuracy: 0.9985 - char_3_accuracy: 0.9991 - char_4_accuracy: 0.9914 - char_5_accuracy: 0.9988 - val_loss: 1.4825 - val_char_1_loss: 0.2029 - val_char_2_loss: 0.4204 - val_char_3_loss: 0.3837 - val_char_4_loss: 0.2993 - val_char_5_loss: 0.1762 - val_char_1_accuracy: 0.9397 - val_char_2_accuracy: 0.8844 - val_char_3_accuracy: 0.9196 - val_char_4_accuracy: 0.9146 - val_char_5_accuracy: 0.9347\n",
            "Epoch 4/100\n",
            "25/25 [==============================] - 1s 25ms/step - loss: 0.0683 - char_1_loss: 0.0171 - char_2_loss: 0.0117 - char_3_loss: 0.0119 - char_4_loss: 0.0153 - char_5_loss: 0.0124 - char_1_accuracy: 0.9983 - char_2_accuracy: 0.9996 - char_3_accuracy: 1.0000 - char_4_accuracy: 0.9992 - char_5_accuracy: 1.0000 - val_loss: 1.4224 - val_char_1_loss: 0.2099 - val_char_2_loss: 0.4231 - val_char_3_loss: 0.3647 - val_char_4_loss: 0.2731 - val_char_5_loss: 0.1516 - val_char_1_accuracy: 0.9447 - val_char_2_accuracy: 0.8894 - val_char_3_accuracy: 0.9196 - val_char_4_accuracy: 0.9196 - val_char_5_accuracy: 0.9497\n",
            "Epoch 5/100\n",
            "25/25 [==============================] - 1s 25ms/step - loss: 0.0715 - char_1_loss: 0.0106 - char_2_loss: 0.0190 - char_3_loss: 0.0144 - char_4_loss: 0.0133 - char_5_loss: 0.0142 - char_1_accuracy: 1.0000 - char_2_accuracy: 0.9933 - char_3_accuracy: 0.9997 - char_4_accuracy: 0.9989 - char_5_accuracy: 0.9994 - val_loss: 1.4367 - val_char_1_loss: 0.2042 - val_char_2_loss: 0.4000 - val_char_3_loss: 0.3632 - val_char_4_loss: 0.2927 - val_char_5_loss: 0.1766 - val_char_1_accuracy: 0.9397 - val_char_2_accuracy: 0.8894 - val_char_3_accuracy: 0.9246 - val_char_4_accuracy: 0.9296 - val_char_5_accuracy: 0.9397\n",
            "Epoch 6/100\n",
            "25/25 [==============================] - 1s 25ms/step - loss: 0.0694 - char_1_loss: 0.0118 - char_2_loss: 0.0125 - char_3_loss: 0.0150 - char_4_loss: 0.0175 - char_5_loss: 0.0126 - char_1_accuracy: 1.0000 - char_2_accuracy: 0.9966 - char_3_accuracy: 0.9974 - char_4_accuracy: 0.9958 - char_5_accuracy: 0.9991 - val_loss: 1.4219 - val_char_1_loss: 0.2048 - val_char_2_loss: 0.4085 - val_char_3_loss: 0.3655 - val_char_4_loss: 0.2811 - val_char_5_loss: 0.1620 - val_char_1_accuracy: 0.9397 - val_char_2_accuracy: 0.9045 - val_char_3_accuracy: 0.9095 - val_char_4_accuracy: 0.9146 - val_char_5_accuracy: 0.9447\n",
            "Epoch 7/100\n",
            "25/25 [==============================] - 1s 25ms/step - loss: 0.0847 - char_1_loss: 0.0228 - char_2_loss: 0.0119 - char_3_loss: 0.0094 - char_4_loss: 0.0257 - char_5_loss: 0.0149 - char_1_accuracy: 0.9973 - char_2_accuracy: 0.9969 - char_3_accuracy: 0.9989 - char_4_accuracy: 0.9957 - char_5_accuracy: 0.9968 - val_loss: 1.4383 - val_char_1_loss: 0.2070 - val_char_2_loss: 0.4097 - val_char_3_loss: 0.3694 - val_char_4_loss: 0.2793 - val_char_5_loss: 0.1729 - val_char_1_accuracy: 0.9397 - val_char_2_accuracy: 0.8945 - val_char_3_accuracy: 0.9146 - val_char_4_accuracy: 0.9146 - val_char_5_accuracy: 0.9397\n",
            "Epoch 8/100\n",
            "25/25 [==============================] - 1s 25ms/step - loss: 0.0734 - char_1_loss: 0.0099 - char_2_loss: 0.0171 - char_3_loss: 0.0139 - char_4_loss: 0.0206 - char_5_loss: 0.0119 - char_1_accuracy: 0.9990 - char_2_accuracy: 0.9951 - char_3_accuracy: 0.9997 - char_4_accuracy: 0.9941 - char_5_accuracy: 0.9994 - val_loss: 1.4226 - val_char_1_loss: 0.2143 - val_char_2_loss: 0.4014 - val_char_3_loss: 0.3742 - val_char_4_loss: 0.2618 - val_char_5_loss: 0.1709 - val_char_1_accuracy: 0.9497 - val_char_2_accuracy: 0.9045 - val_char_3_accuracy: 0.9246 - val_char_4_accuracy: 0.9196 - val_char_5_accuracy: 0.9397\n",
            "Epoch 9/100\n",
            "25/25 [==============================] - 1s 25ms/step - loss: 0.0815 - char_1_loss: 0.0218 - char_2_loss: 0.0146 - char_3_loss: 0.0160 - char_4_loss: 0.0150 - char_5_loss: 0.0141 - char_1_accuracy: 0.9919 - char_2_accuracy: 0.9994 - char_3_accuracy: 0.9990 - char_4_accuracy: 1.0000 - char_5_accuracy: 0.9986 - val_loss: 1.4341 - val_char_1_loss: 0.1924 - val_char_2_loss: 0.3979 - val_char_3_loss: 0.3740 - val_char_4_loss: 0.2820 - val_char_5_loss: 0.1877 - val_char_1_accuracy: 0.9397 - val_char_2_accuracy: 0.8945 - val_char_3_accuracy: 0.9146 - val_char_4_accuracy: 0.9246 - val_char_5_accuracy: 0.9347\n",
            "Epoch 10/100\n",
            "25/25 [==============================] - 1s 25ms/step - loss: 0.0633 - char_1_loss: 0.0121 - char_2_loss: 0.0162 - char_3_loss: 0.0096 - char_4_loss: 0.0135 - char_5_loss: 0.0120 - char_1_accuracy: 0.9998 - char_2_accuracy: 0.9994 - char_3_accuracy: 0.9997 - char_4_accuracy: 0.9973 - char_5_accuracy: 0.9985 - val_loss: 1.4486 - val_char_1_loss: 0.2019 - val_char_2_loss: 0.4005 - val_char_3_loss: 0.3895 - val_char_4_loss: 0.2667 - val_char_5_loss: 0.1900 - val_char_1_accuracy: 0.9447 - val_char_2_accuracy: 0.8894 - val_char_3_accuracy: 0.9146 - val_char_4_accuracy: 0.9296 - val_char_5_accuracy: 0.9347\n",
            "Epoch 11/100\n",
            "25/25 [==============================] - 1s 25ms/step - loss: 0.0758 - char_1_loss: 0.0165 - char_2_loss: 0.0136 - char_3_loss: 0.0161 - char_4_loss: 0.0180 - char_5_loss: 0.0116 - char_1_accuracy: 0.9987 - char_2_accuracy: 0.9985 - char_3_accuracy: 0.9999 - char_4_accuracy: 0.9947 - char_5_accuracy: 0.9991 - val_loss: 1.4447 - val_char_1_loss: 0.1912 - val_char_2_loss: 0.4027 - val_char_3_loss: 0.3865 - val_char_4_loss: 0.2627 - val_char_5_loss: 0.2016 - val_char_1_accuracy: 0.9397 - val_char_2_accuracy: 0.8794 - val_char_3_accuracy: 0.9146 - val_char_4_accuracy: 0.9246 - val_char_5_accuracy: 0.9447\n",
            "Epoch 12/100\n",
            "25/25 [==============================] - 1s 25ms/step - loss: 0.0647 - char_1_loss: 0.0108 - char_2_loss: 0.0105 - char_3_loss: 0.0145 - char_4_loss: 0.0158 - char_5_loss: 0.0130 - char_1_accuracy: 1.0000 - char_2_accuracy: 1.0000 - char_3_accuracy: 0.9999 - char_4_accuracy: 1.0000 - char_5_accuracy: 1.0000 - val_loss: 1.4098 - val_char_1_loss: 0.1935 - val_char_2_loss: 0.4124 - val_char_3_loss: 0.3803 - val_char_4_loss: 0.2534 - val_char_5_loss: 0.1702 - val_char_1_accuracy: 0.9447 - val_char_2_accuracy: 0.8995 - val_char_3_accuracy: 0.9095 - val_char_4_accuracy: 0.9246 - val_char_5_accuracy: 0.9347\n",
            "Epoch 13/100\n",
            "25/25 [==============================] - 1s 25ms/step - loss: 0.0631 - char_1_loss: 0.0161 - char_2_loss: 0.0118 - char_3_loss: 0.0095 - char_4_loss: 0.0186 - char_5_loss: 0.0070 - char_1_accuracy: 0.9970 - char_2_accuracy: 0.9975 - char_3_accuracy: 0.9995 - char_4_accuracy: 0.9975 - char_5_accuracy: 1.0000 - val_loss: 1.4108 - val_char_1_loss: 0.1971 - val_char_2_loss: 0.4080 - val_char_3_loss: 0.3715 - val_char_4_loss: 0.2638 - val_char_5_loss: 0.1704 - val_char_1_accuracy: 0.9447 - val_char_2_accuracy: 0.9045 - val_char_3_accuracy: 0.9146 - val_char_4_accuracy: 0.9146 - val_char_5_accuracy: 0.9397\n",
            "Epoch 14/100\n",
            "25/25 [==============================] - 1s 25ms/step - loss: 0.0683 - char_1_loss: 0.0113 - char_2_loss: 0.0138 - char_3_loss: 0.0152 - char_4_loss: 0.0155 - char_5_loss: 0.0126 - char_1_accuracy: 0.9983 - char_2_accuracy: 0.9989 - char_3_accuracy: 0.9991 - char_4_accuracy: 0.9972 - char_5_accuracy: 1.0000 - val_loss: 1.3875 - val_char_1_loss: 0.2128 - val_char_2_loss: 0.3951 - val_char_3_loss: 0.3804 - val_char_4_loss: 0.2404 - val_char_5_loss: 0.1590 - val_char_1_accuracy: 0.9347 - val_char_2_accuracy: 0.8945 - val_char_3_accuracy: 0.8995 - val_char_4_accuracy: 0.9196 - val_char_5_accuracy: 0.9397\n",
            "Epoch 15/100\n",
            "25/25 [==============================] - 1s 25ms/step - loss: 0.0842 - char_1_loss: 0.0183 - char_2_loss: 0.0223 - char_3_loss: 0.0146 - char_4_loss: 0.0141 - char_5_loss: 0.0149 - char_1_accuracy: 0.9954 - char_2_accuracy: 0.9975 - char_3_accuracy: 0.9977 - char_4_accuracy: 0.9999 - char_5_accuracy: 1.0000 - val_loss: 1.4280 - val_char_1_loss: 0.1959 - val_char_2_loss: 0.4244 - val_char_3_loss: 0.3677 - val_char_4_loss: 0.2752 - val_char_5_loss: 0.1648 - val_char_1_accuracy: 0.9397 - val_char_2_accuracy: 0.8844 - val_char_3_accuracy: 0.9095 - val_char_4_accuracy: 0.9196 - val_char_5_accuracy: 0.9447\n",
            "Epoch 16/100\n",
            "25/25 [==============================] - 1s 26ms/step - loss: 0.0793 - char_1_loss: 0.0139 - char_2_loss: 0.0138 - char_3_loss: 0.0283 - char_4_loss: 0.0124 - char_5_loss: 0.0109 - char_1_accuracy: 0.9991 - char_2_accuracy: 0.9990 - char_3_accuracy: 0.9964 - char_4_accuracy: 0.9974 - char_5_accuracy: 0.9997 - val_loss: 1.4688 - val_char_1_loss: 0.2060 - val_char_2_loss: 0.4570 - val_char_3_loss: 0.3859 - val_char_4_loss: 0.2610 - val_char_5_loss: 0.1589 - val_char_1_accuracy: 0.9246 - val_char_2_accuracy: 0.8543 - val_char_3_accuracy: 0.9146 - val_char_4_accuracy: 0.9196 - val_char_5_accuracy: 0.9347\n",
            "Epoch 17/100\n",
            "25/25 [==============================] - 1s 26ms/step - loss: 0.0618 - char_1_loss: 0.0187 - char_2_loss: 0.0110 - char_3_loss: 0.0128 - char_4_loss: 0.0111 - char_5_loss: 0.0083 - char_1_accuracy: 0.9945 - char_2_accuracy: 0.9990 - char_3_accuracy: 0.9991 - char_4_accuracy: 0.9990 - char_5_accuracy: 0.9992 - val_loss: 1.4142 - val_char_1_loss: 0.1986 - val_char_2_loss: 0.4280 - val_char_3_loss: 0.3789 - val_char_4_loss: 0.2464 - val_char_5_loss: 0.1624 - val_char_1_accuracy: 0.9347 - val_char_2_accuracy: 0.8794 - val_char_3_accuracy: 0.9196 - val_char_4_accuracy: 0.9196 - val_char_5_accuracy: 0.9397\n",
            "Epoch 18/100\n",
            "25/25 [==============================] - 1s 25ms/step - loss: 0.0542 - char_1_loss: 0.0089 - char_2_loss: 0.0093 - char_3_loss: 0.0120 - char_4_loss: 0.0115 - char_5_loss: 0.0124 - char_1_accuracy: 0.9999 - char_2_accuracy: 0.9996 - char_3_accuracy: 0.9991 - char_4_accuracy: 1.0000 - char_5_accuracy: 0.9983 - val_loss: 1.4617 - val_char_1_loss: 0.2001 - val_char_2_loss: 0.4388 - val_char_3_loss: 0.4141 - val_char_4_loss: 0.2423 - val_char_5_loss: 0.1663 - val_char_1_accuracy: 0.9497 - val_char_2_accuracy: 0.8744 - val_char_3_accuracy: 0.8995 - val_char_4_accuracy: 0.9296 - val_char_5_accuracy: 0.9397\n",
            "Epoch 19/100\n",
            "25/25 [==============================] - 1s 25ms/step - loss: 0.0614 - char_1_loss: 0.0064 - char_2_loss: 0.0143 - char_3_loss: 0.0130 - char_4_loss: 0.0149 - char_5_loss: 0.0130 - char_1_accuracy: 1.0000 - char_2_accuracy: 0.9977 - char_3_accuracy: 0.9987 - char_4_accuracy: 1.0000 - char_5_accuracy: 0.9966 - val_loss: 1.4455 - val_char_1_loss: 0.2140 - val_char_2_loss: 0.4323 - val_char_3_loss: 0.4001 - val_char_4_loss: 0.2429 - val_char_5_loss: 0.1561 - val_char_1_accuracy: 0.9447 - val_char_2_accuracy: 0.8844 - val_char_3_accuracy: 0.9045 - val_char_4_accuracy: 0.9146 - val_char_5_accuracy: 0.9397\n",
            "Epoch 20/100\n",
            "25/25 [==============================] - 1s 26ms/step - loss: 0.0515 - char_1_loss: 0.0104 - char_2_loss: 0.0113 - char_3_loss: 0.0103 - char_4_loss: 0.0122 - char_5_loss: 0.0072 - char_1_accuracy: 1.0000 - char_2_accuracy: 1.0000 - char_3_accuracy: 0.9984 - char_4_accuracy: 0.9997 - char_5_accuracy: 0.9996 - val_loss: 1.4262 - val_char_1_loss: 0.2123 - val_char_2_loss: 0.4315 - val_char_3_loss: 0.3823 - val_char_4_loss: 0.2398 - val_char_5_loss: 0.1602 - val_char_1_accuracy: 0.9397 - val_char_2_accuracy: 0.8794 - val_char_3_accuracy: 0.9045 - val_char_4_accuracy: 0.9347 - val_char_5_accuracy: 0.9296\n",
            "Epoch 21/100\n",
            "25/25 [==============================] - 1s 26ms/step - loss: 0.0641 - char_1_loss: 0.0124 - char_2_loss: 0.0149 - char_3_loss: 0.0078 - char_4_loss: 0.0178 - char_5_loss: 0.0113 - char_1_accuracy: 0.9982 - char_2_accuracy: 0.9974 - char_3_accuracy: 0.9998 - char_4_accuracy: 0.9983 - char_5_accuracy: 1.0000 - val_loss: 1.3868 - val_char_1_loss: 0.2100 - val_char_2_loss: 0.4088 - val_char_3_loss: 0.3794 - val_char_4_loss: 0.2287 - val_char_5_loss: 0.1599 - val_char_1_accuracy: 0.9497 - val_char_2_accuracy: 0.9045 - val_char_3_accuracy: 0.9045 - val_char_4_accuracy: 0.9347 - val_char_5_accuracy: 0.9397\n",
            "Epoch 22/100\n",
            "25/25 [==============================] - 1s 25ms/step - loss: 0.0578 - char_1_loss: 0.0096 - char_2_loss: 0.0084 - char_3_loss: 0.0091 - char_4_loss: 0.0134 - char_5_loss: 0.0173 - char_1_accuracy: 1.0000 - char_2_accuracy: 0.9992 - char_3_accuracy: 1.0000 - char_4_accuracy: 0.9983 - char_5_accuracy: 0.9955 - val_loss: 1.4151 - val_char_1_loss: 0.2095 - val_char_2_loss: 0.4109 - val_char_3_loss: 0.3766 - val_char_4_loss: 0.2488 - val_char_5_loss: 0.1693 - val_char_1_accuracy: 0.9347 - val_char_2_accuracy: 0.9045 - val_char_3_accuracy: 0.8995 - val_char_4_accuracy: 0.9246 - val_char_5_accuracy: 0.9447\n",
            "Epoch 23/100\n",
            "25/25 [==============================] - 1s 25ms/step - loss: 0.0600 - char_1_loss: 0.0076 - char_2_loss: 0.0058 - char_3_loss: 0.0149 - char_4_loss: 0.0092 - char_5_loss: 0.0226 - char_1_accuracy: 0.9996 - char_2_accuracy: 1.0000 - char_3_accuracy: 0.9976 - char_4_accuracy: 0.9998 - char_5_accuracy: 0.9953 - val_loss: 1.3985 - val_char_1_loss: 0.2088 - val_char_2_loss: 0.4149 - val_char_3_loss: 0.3670 - val_char_4_loss: 0.2511 - val_char_5_loss: 0.1566 - val_char_1_accuracy: 0.9296 - val_char_2_accuracy: 0.8945 - val_char_3_accuracy: 0.9095 - val_char_4_accuracy: 0.9246 - val_char_5_accuracy: 0.9397\n",
            "Epoch 24/100\n",
            "25/25 [==============================] - 1s 25ms/step - loss: 0.0704 - char_1_loss: 0.0121 - char_2_loss: 0.0132 - char_3_loss: 0.0165 - char_4_loss: 0.0135 - char_5_loss: 0.0151 - char_1_accuracy: 0.9954 - char_2_accuracy: 0.9999 - char_3_accuracy: 1.0000 - char_4_accuracy: 0.9987 - char_5_accuracy: 1.0000 - val_loss: 1.4365 - val_char_1_loss: 0.2094 - val_char_2_loss: 0.4315 - val_char_3_loss: 0.3773 - val_char_4_loss: 0.2602 - val_char_5_loss: 0.1582 - val_char_1_accuracy: 0.9397 - val_char_2_accuracy: 0.8894 - val_char_3_accuracy: 0.8894 - val_char_4_accuracy: 0.9196 - val_char_5_accuracy: 0.9347\n",
            "Epoch 25/100\n",
            "25/25 [==============================] - 1s 26ms/step - loss: 0.0681 - char_1_loss: 0.0122 - char_2_loss: 0.0192 - char_3_loss: 0.0101 - char_4_loss: 0.0159 - char_5_loss: 0.0108 - char_1_accuracy: 0.9985 - char_2_accuracy: 0.9988 - char_3_accuracy: 0.9989 - char_4_accuracy: 0.9976 - char_5_accuracy: 1.0000 - val_loss: 1.3669 - val_char_1_loss: 0.2081 - val_char_2_loss: 0.4017 - val_char_3_loss: 0.3807 - val_char_4_loss: 0.2359 - val_char_5_loss: 0.1405 - val_char_1_accuracy: 0.9246 - val_char_2_accuracy: 0.8945 - val_char_3_accuracy: 0.8945 - val_char_4_accuracy: 0.9196 - val_char_5_accuracy: 0.9397\n",
            "Epoch 26/100\n",
            "25/25 [==============================] - 1s 26ms/step - loss: 0.0611 - char_1_loss: 0.0082 - char_2_loss: 0.0095 - char_3_loss: 0.0157 - char_4_loss: 0.0158 - char_5_loss: 0.0118 - char_1_accuracy: 0.9986 - char_2_accuracy: 1.0000 - char_3_accuracy: 0.9978 - char_4_accuracy: 0.9986 - char_5_accuracy: 0.9979 - val_loss: 1.4818 - val_char_1_loss: 0.2165 - val_char_2_loss: 0.4512 - val_char_3_loss: 0.4146 - val_char_4_loss: 0.2591 - val_char_5_loss: 0.1404 - val_char_1_accuracy: 0.9296 - val_char_2_accuracy: 0.8945 - val_char_3_accuracy: 0.8844 - val_char_4_accuracy: 0.9095 - val_char_5_accuracy: 0.9347\n",
            "Epoch 27/100\n",
            "25/25 [==============================] - 1s 26ms/step - loss: 0.0715 - char_1_loss: 0.0105 - char_2_loss: 0.0143 - char_3_loss: 0.0107 - char_4_loss: 0.0195 - char_5_loss: 0.0165 - char_1_accuracy: 0.9981 - char_2_accuracy: 0.9986 - char_3_accuracy: 0.9993 - char_4_accuracy: 1.0000 - char_5_accuracy: 0.9978 - val_loss: 1.4224 - val_char_1_loss: 0.2152 - val_char_2_loss: 0.4175 - val_char_3_loss: 0.3879 - val_char_4_loss: 0.2502 - val_char_5_loss: 0.1517 - val_char_1_accuracy: 0.9196 - val_char_2_accuracy: 0.8945 - val_char_3_accuracy: 0.9045 - val_char_4_accuracy: 0.9246 - val_char_5_accuracy: 0.9397\n",
            "Epoch 28/100\n",
            "25/25 [==============================] - 1s 25ms/step - loss: 0.0532 - char_1_loss: 0.0128 - char_2_loss: 0.0103 - char_3_loss: 0.0129 - char_4_loss: 0.0088 - char_5_loss: 0.0083 - char_1_accuracy: 0.9966 - char_2_accuracy: 1.0000 - char_3_accuracy: 0.9981 - char_4_accuracy: 1.0000 - char_5_accuracy: 1.0000 - val_loss: 1.3876 - val_char_1_loss: 0.1997 - val_char_2_loss: 0.4002 - val_char_3_loss: 0.3779 - val_char_4_loss: 0.2565 - val_char_5_loss: 0.1534 - val_char_1_accuracy: 0.9347 - val_char_2_accuracy: 0.8945 - val_char_3_accuracy: 0.8995 - val_char_4_accuracy: 0.9246 - val_char_5_accuracy: 0.9347\n",
            "Epoch 29/100\n",
            "25/25 [==============================] - 1s 26ms/step - loss: 0.0567 - char_1_loss: 0.0082 - char_2_loss: 0.0086 - char_3_loss: 0.0146 - char_4_loss: 0.0189 - char_5_loss: 0.0063 - char_1_accuracy: 0.9993 - char_2_accuracy: 1.0000 - char_3_accuracy: 0.9989 - char_4_accuracy: 0.9981 - char_5_accuracy: 1.0000 - val_loss: 1.3896 - val_char_1_loss: 0.1871 - val_char_2_loss: 0.4135 - val_char_3_loss: 0.3632 - val_char_4_loss: 0.2576 - val_char_5_loss: 0.1683 - val_char_1_accuracy: 0.9246 - val_char_2_accuracy: 0.8995 - val_char_3_accuracy: 0.9095 - val_char_4_accuracy: 0.9146 - val_char_5_accuracy: 0.9246\n",
            "Epoch 30/100\n",
            "25/25 [==============================] - 1s 25ms/step - loss: 0.0518 - char_1_loss: 0.0111 - char_2_loss: 0.0092 - char_3_loss: 0.0096 - char_4_loss: 0.0158 - char_5_loss: 0.0062 - char_1_accuracy: 0.9972 - char_2_accuracy: 1.0000 - char_3_accuracy: 0.9994 - char_4_accuracy: 0.9968 - char_5_accuracy: 0.9994 - val_loss: 1.3817 - val_char_1_loss: 0.2026 - val_char_2_loss: 0.3992 - val_char_3_loss: 0.3692 - val_char_4_loss: 0.2517 - val_char_5_loss: 0.1591 - val_char_1_accuracy: 0.9447 - val_char_2_accuracy: 0.8995 - val_char_3_accuracy: 0.9196 - val_char_4_accuracy: 0.9246 - val_char_5_accuracy: 0.9347\n",
            "Epoch 31/100\n",
            "25/25 [==============================] - 1s 26ms/step - loss: 0.0544 - char_1_loss: 0.0118 - char_2_loss: 0.0073 - char_3_loss: 0.0115 - char_4_loss: 0.0123 - char_5_loss: 0.0116 - char_1_accuracy: 0.9969 - char_2_accuracy: 1.0000 - char_3_accuracy: 0.9983 - char_4_accuracy: 0.9979 - char_5_accuracy: 1.0000 - val_loss: 1.3853 - val_char_1_loss: 0.1986 - val_char_2_loss: 0.4012 - val_char_3_loss: 0.3699 - val_char_4_loss: 0.2551 - val_char_5_loss: 0.1605 - val_char_1_accuracy: 0.9347 - val_char_2_accuracy: 0.8995 - val_char_3_accuracy: 0.9196 - val_char_4_accuracy: 0.9196 - val_char_5_accuracy: 0.9397\n",
            "Epoch 32/100\n",
            "25/25 [==============================] - 1s 26ms/step - loss: 0.0646 - char_1_loss: 0.0094 - char_2_loss: 0.0124 - char_3_loss: 0.0141 - char_4_loss: 0.0117 - char_5_loss: 0.0170 - char_1_accuracy: 0.9992 - char_2_accuracy: 1.0000 - char_3_accuracy: 1.0000 - char_4_accuracy: 1.0000 - char_5_accuracy: 0.9926 - val_loss: 1.3846 - val_char_1_loss: 0.1945 - val_char_2_loss: 0.4211 - val_char_3_loss: 0.3554 - val_char_4_loss: 0.2613 - val_char_5_loss: 0.1523 - val_char_1_accuracy: 0.9296 - val_char_2_accuracy: 0.9095 - val_char_3_accuracy: 0.9146 - val_char_4_accuracy: 0.9196 - val_char_5_accuracy: 0.9347\n",
            "Epoch 33/100\n",
            "25/25 [==============================] - 1s 25ms/step - loss: 0.0531 - char_1_loss: 0.0090 - char_2_loss: 0.0103 - char_3_loss: 0.0112 - char_4_loss: 0.0111 - char_5_loss: 0.0116 - char_1_accuracy: 1.0000 - char_2_accuracy: 0.9981 - char_3_accuracy: 1.0000 - char_4_accuracy: 0.9999 - char_5_accuracy: 0.9973 - val_loss: 1.3809 - val_char_1_loss: 0.1883 - val_char_2_loss: 0.4128 - val_char_3_loss: 0.3639 - val_char_4_loss: 0.2595 - val_char_5_loss: 0.1564 - val_char_1_accuracy: 0.9397 - val_char_2_accuracy: 0.9095 - val_char_3_accuracy: 0.9045 - val_char_4_accuracy: 0.9196 - val_char_5_accuracy: 0.9347\n",
            "Epoch 34/100\n",
            "25/25 [==============================] - 1s 25ms/step - loss: 0.0718 - char_1_loss: 0.0153 - char_2_loss: 0.0120 - char_3_loss: 0.0112 - char_4_loss: 0.0101 - char_5_loss: 0.0231 - char_1_accuracy: 0.9980 - char_2_accuracy: 0.9986 - char_3_accuracy: 1.0000 - char_4_accuracy: 1.0000 - char_5_accuracy: 0.9954 - val_loss: 1.4007 - val_char_1_loss: 0.2043 - val_char_2_loss: 0.4253 - val_char_3_loss: 0.3785 - val_char_4_loss: 0.2530 - val_char_5_loss: 0.1396 - val_char_1_accuracy: 0.9397 - val_char_2_accuracy: 0.9045 - val_char_3_accuracy: 0.9296 - val_char_4_accuracy: 0.9246 - val_char_5_accuracy: 0.9447\n",
            "Epoch 35/100\n",
            "25/25 [==============================] - 1s 26ms/step - loss: 0.0572 - char_1_loss: 0.0080 - char_2_loss: 0.0098 - char_3_loss: 0.0109 - char_4_loss: 0.0144 - char_5_loss: 0.0141 - char_1_accuracy: 1.0000 - char_2_accuracy: 0.9979 - char_3_accuracy: 0.9991 - char_4_accuracy: 1.0000 - char_5_accuracy: 0.9959 - val_loss: 1.4019 - val_char_1_loss: 0.1970 - val_char_2_loss: 0.4277 - val_char_3_loss: 0.3472 - val_char_4_loss: 0.2601 - val_char_5_loss: 0.1699 - val_char_1_accuracy: 0.9397 - val_char_2_accuracy: 0.8945 - val_char_3_accuracy: 0.9196 - val_char_4_accuracy: 0.9246 - val_char_5_accuracy: 0.9347\n",
            "Epoch 36/100\n",
            "25/25 [==============================] - 1s 26ms/step - loss: 0.0494 - char_1_loss: 0.0097 - char_2_loss: 0.0080 - char_3_loss: 0.0141 - char_4_loss: 0.0103 - char_5_loss: 0.0073 - char_1_accuracy: 0.9996 - char_2_accuracy: 1.0000 - char_3_accuracy: 0.9967 - char_4_accuracy: 0.9997 - char_5_accuracy: 1.0000 - val_loss: 1.4031 - val_char_1_loss: 0.1978 - val_char_2_loss: 0.4204 - val_char_3_loss: 0.3598 - val_char_4_loss: 0.2562 - val_char_5_loss: 0.1689 - val_char_1_accuracy: 0.9397 - val_char_2_accuracy: 0.8995 - val_char_3_accuracy: 0.9146 - val_char_4_accuracy: 0.9196 - val_char_5_accuracy: 0.9347\n",
            "Epoch 37/100\n",
            "25/25 [==============================] - 1s 26ms/step - loss: 0.0520 - char_1_loss: 0.0116 - char_2_loss: 0.0074 - char_3_loss: 0.0128 - char_4_loss: 0.0108 - char_5_loss: 0.0094 - char_1_accuracy: 0.9961 - char_2_accuracy: 1.0000 - char_3_accuracy: 1.0000 - char_4_accuracy: 1.0000 - char_5_accuracy: 0.9989 - val_loss: 1.4408 - val_char_1_loss: 0.2135 - val_char_2_loss: 0.4154 - val_char_3_loss: 0.3646 - val_char_4_loss: 0.2601 - val_char_5_loss: 0.1873 - val_char_1_accuracy: 0.9246 - val_char_2_accuracy: 0.8945 - val_char_3_accuracy: 0.9246 - val_char_4_accuracy: 0.9246 - val_char_5_accuracy: 0.9447\n",
            "Epoch 38/100\n",
            "25/25 [==============================] - 1s 26ms/step - loss: 0.0593 - char_1_loss: 0.0106 - char_2_loss: 0.0103 - char_3_loss: 0.0127 - char_4_loss: 0.0099 - char_5_loss: 0.0158 - char_1_accuracy: 0.9995 - char_2_accuracy: 0.9996 - char_3_accuracy: 0.9985 - char_4_accuracy: 1.0000 - char_5_accuracy: 0.9971 - val_loss: 1.4510 - val_char_1_loss: 0.2270 - val_char_2_loss: 0.4336 - val_char_3_loss: 0.3664 - val_char_4_loss: 0.2525 - val_char_5_loss: 0.1715 - val_char_1_accuracy: 0.9196 - val_char_2_accuracy: 0.9045 - val_char_3_accuracy: 0.9095 - val_char_4_accuracy: 0.9246 - val_char_5_accuracy: 0.9246\n",
            "Epoch 39/100\n",
            "25/25 [==============================] - 1s 26ms/step - loss: 0.0474 - char_1_loss: 0.0064 - char_2_loss: 0.0071 - char_3_loss: 0.0091 - char_4_loss: 0.0129 - char_5_loss: 0.0119 - char_1_accuracy: 1.0000 - char_2_accuracy: 1.0000 - char_3_accuracy: 0.9997 - char_4_accuracy: 0.9998 - char_5_accuracy: 0.9993 - val_loss: 1.4402 - val_char_1_loss: 0.2105 - val_char_2_loss: 0.4253 - val_char_3_loss: 0.3714 - val_char_4_loss: 0.2571 - val_char_5_loss: 0.1758 - val_char_1_accuracy: 0.9347 - val_char_2_accuracy: 0.8995 - val_char_3_accuracy: 0.9146 - val_char_4_accuracy: 0.9397 - val_char_5_accuracy: 0.9296\n",
            "Epoch 40/100\n",
            "25/25 [==============================] - 1s 26ms/step - loss: 0.0484 - char_1_loss: 0.0073 - char_2_loss: 0.0091 - char_3_loss: 0.0096 - char_4_loss: 0.0077 - char_5_loss: 0.0147 - char_1_accuracy: 1.0000 - char_2_accuracy: 0.9992 - char_3_accuracy: 1.0000 - char_4_accuracy: 1.0000 - char_5_accuracy: 0.9954 - val_loss: 1.4465 - val_char_1_loss: 0.2147 - val_char_2_loss: 0.4256 - val_char_3_loss: 0.3855 - val_char_4_loss: 0.2537 - val_char_5_loss: 0.1670 - val_char_1_accuracy: 0.9246 - val_char_2_accuracy: 0.9045 - val_char_3_accuracy: 0.9196 - val_char_4_accuracy: 0.9347 - val_char_5_accuracy: 0.9397\n",
            "Epoch 41/100\n",
            "25/25 [==============================] - 1s 26ms/step - loss: 0.0675 - char_1_loss: 0.0089 - char_2_loss: 0.0085 - char_3_loss: 0.0169 - char_4_loss: 0.0093 - char_5_loss: 0.0239 - char_1_accuracy: 1.0000 - char_2_accuracy: 1.0000 - char_3_accuracy: 0.9976 - char_4_accuracy: 1.0000 - char_5_accuracy: 0.9938 - val_loss: 1.5098 - val_char_1_loss: 0.2262 - val_char_2_loss: 0.4315 - val_char_3_loss: 0.4059 - val_char_4_loss: 0.2564 - val_char_5_loss: 0.1898 - val_char_1_accuracy: 0.9296 - val_char_2_accuracy: 0.8945 - val_char_3_accuracy: 0.9146 - val_char_4_accuracy: 0.9246 - val_char_5_accuracy: 0.9347\n",
            "Epoch 42/100\n",
            "25/25 [==============================] - 1s 26ms/step - loss: 0.0534 - char_1_loss: 0.0057 - char_2_loss: 0.0143 - char_3_loss: 0.0090 - char_4_loss: 0.0139 - char_5_loss: 0.0106 - char_1_accuracy: 1.0000 - char_2_accuracy: 0.9966 - char_3_accuracy: 1.0000 - char_4_accuracy: 1.0000 - char_5_accuracy: 1.0000 - val_loss: 1.4822 - val_char_1_loss: 0.2119 - val_char_2_loss: 0.4240 - val_char_3_loss: 0.3975 - val_char_4_loss: 0.2549 - val_char_5_loss: 0.1939 - val_char_1_accuracy: 0.9296 - val_char_2_accuracy: 0.8995 - val_char_3_accuracy: 0.9146 - val_char_4_accuracy: 0.9246 - val_char_5_accuracy: 0.9296\n",
            "Epoch 43/100\n",
            "25/25 [==============================] - 1s 25ms/step - loss: 0.0598 - char_1_loss: 0.0085 - char_2_loss: 0.0116 - char_3_loss: 0.0136 - char_4_loss: 0.0150 - char_5_loss: 0.0111 - char_1_accuracy: 0.9994 - char_2_accuracy: 0.9982 - char_3_accuracy: 0.9979 - char_4_accuracy: 0.9983 - char_5_accuracy: 0.9978 - val_loss: 1.4403 - val_char_1_loss: 0.2011 - val_char_2_loss: 0.4241 - val_char_3_loss: 0.4025 - val_char_4_loss: 0.2400 - val_char_5_loss: 0.1725 - val_char_1_accuracy: 0.9347 - val_char_2_accuracy: 0.8945 - val_char_3_accuracy: 0.8945 - val_char_4_accuracy: 0.9296 - val_char_5_accuracy: 0.9347\n",
            "Epoch 44/100\n",
            "25/25 [==============================] - 1s 25ms/step - loss: 0.0478 - char_1_loss: 0.0089 - char_2_loss: 0.0106 - char_3_loss: 0.0079 - char_4_loss: 0.0089 - char_5_loss: 0.0116 - char_1_accuracy: 0.9989 - char_2_accuracy: 0.9979 - char_3_accuracy: 0.9993 - char_4_accuracy: 1.0000 - char_5_accuracy: 0.9992 - val_loss: 1.4219 - val_char_1_loss: 0.1910 - val_char_2_loss: 0.4325 - val_char_3_loss: 0.3904 - val_char_4_loss: 0.2390 - val_char_5_loss: 0.1689 - val_char_1_accuracy: 0.9347 - val_char_2_accuracy: 0.8894 - val_char_3_accuracy: 0.8995 - val_char_4_accuracy: 0.9296 - val_char_5_accuracy: 0.9347\n",
            "Epoch 45/100\n",
            "25/25 [==============================] - 1s 26ms/step - loss: 0.0502 - char_1_loss: 0.0100 - char_2_loss: 0.0077 - char_3_loss: 0.0175 - char_4_loss: 0.0071 - char_5_loss: 0.0079 - char_1_accuracy: 0.9966 - char_2_accuracy: 1.0000 - char_3_accuracy: 0.9954 - char_4_accuracy: 1.0000 - char_5_accuracy: 1.0000 - val_loss: 1.4067 - val_char_1_loss: 0.1931 - val_char_2_loss: 0.4205 - val_char_3_loss: 0.3957 - val_char_4_loss: 0.2403 - val_char_5_loss: 0.1572 - val_char_1_accuracy: 0.9447 - val_char_2_accuracy: 0.8894 - val_char_3_accuracy: 0.9095 - val_char_4_accuracy: 0.9196 - val_char_5_accuracy: 0.9497\n",
            "Epoch 46/100\n",
            "25/25 [==============================] - 1s 26ms/step - loss: 0.0494 - char_1_loss: 0.0068 - char_2_loss: 0.0084 - char_3_loss: 0.0088 - char_4_loss: 0.0148 - char_5_loss: 0.0105 - char_1_accuracy: 1.0000 - char_2_accuracy: 1.0000 - char_3_accuracy: 1.0000 - char_4_accuracy: 0.9993 - char_5_accuracy: 0.9984 - val_loss: 1.4182 - val_char_1_loss: 0.1797 - val_char_2_loss: 0.4053 - val_char_3_loss: 0.4008 - val_char_4_loss: 0.2463 - val_char_5_loss: 0.1860 - val_char_1_accuracy: 0.9497 - val_char_2_accuracy: 0.9045 - val_char_3_accuracy: 0.8995 - val_char_4_accuracy: 0.9296 - val_char_5_accuracy: 0.9296\n",
            "Epoch 47/100\n",
            "25/25 [==============================] - 1s 26ms/step - loss: 0.0576 - char_1_loss: 0.0102 - char_2_loss: 0.0124 - char_3_loss: 0.0123 - char_4_loss: 0.0104 - char_5_loss: 0.0123 - char_1_accuracy: 1.0000 - char_2_accuracy: 0.9988 - char_3_accuracy: 0.9976 - char_4_accuracy: 1.0000 - char_5_accuracy: 0.9988 - val_loss: 1.4121 - val_char_1_loss: 0.1965 - val_char_2_loss: 0.4058 - val_char_3_loss: 0.4010 - val_char_4_loss: 0.2327 - val_char_5_loss: 0.1762 - val_char_1_accuracy: 0.9347 - val_char_2_accuracy: 0.9146 - val_char_3_accuracy: 0.9045 - val_char_4_accuracy: 0.9397 - val_char_5_accuracy: 0.9246\n",
            "Epoch 48/100\n",
            "25/25 [==============================] - 1s 26ms/step - loss: 0.0563 - char_1_loss: 0.0114 - char_2_loss: 0.0085 - char_3_loss: 0.0122 - char_4_loss: 0.0180 - char_5_loss: 0.0062 - char_1_accuracy: 0.9995 - char_2_accuracy: 0.9996 - char_3_accuracy: 0.9974 - char_4_accuracy: 0.9981 - char_5_accuracy: 1.0000 - val_loss: 1.4468 - val_char_1_loss: 0.1852 - val_char_2_loss: 0.4142 - val_char_3_loss: 0.3944 - val_char_4_loss: 0.2527 - val_char_5_loss: 0.2003 - val_char_1_accuracy: 0.9347 - val_char_2_accuracy: 0.8995 - val_char_3_accuracy: 0.9045 - val_char_4_accuracy: 0.9246 - val_char_5_accuracy: 0.9095\n",
            "Epoch 49/100\n",
            "25/25 [==============================] - 1s 26ms/step - loss: 0.0586 - char_1_loss: 0.0106 - char_2_loss: 0.0089 - char_3_loss: 0.0096 - char_4_loss: 0.0125 - char_5_loss: 0.0169 - char_1_accuracy: 1.0000 - char_2_accuracy: 0.9985 - char_3_accuracy: 1.0000 - char_4_accuracy: 0.9988 - char_5_accuracy: 0.9949 - val_loss: 1.4508 - val_char_1_loss: 0.2203 - val_char_2_loss: 0.4326 - val_char_3_loss: 0.3878 - val_char_4_loss: 0.2409 - val_char_5_loss: 0.1691 - val_char_1_accuracy: 0.9246 - val_char_2_accuracy: 0.8844 - val_char_3_accuracy: 0.9095 - val_char_4_accuracy: 0.9196 - val_char_5_accuracy: 0.9246\n",
            "Epoch 50/100\n",
            "25/25 [==============================] - 1s 26ms/step - loss: 0.0564 - char_1_loss: 0.0080 - char_2_loss: 0.0076 - char_3_loss: 0.0132 - char_4_loss: 0.0137 - char_5_loss: 0.0139 - char_1_accuracy: 1.0000 - char_2_accuracy: 1.0000 - char_3_accuracy: 0.9972 - char_4_accuracy: 0.9981 - char_5_accuracy: 0.9976 - val_loss: 1.4481 - val_char_1_loss: 0.2206 - val_char_2_loss: 0.4221 - val_char_3_loss: 0.3815 - val_char_4_loss: 0.2408 - val_char_5_loss: 0.1831 - val_char_1_accuracy: 0.9246 - val_char_2_accuracy: 0.8844 - val_char_3_accuracy: 0.9095 - val_char_4_accuracy: 0.9146 - val_char_5_accuracy: 0.9246\n",
            "Epoch 51/100\n",
            "25/25 [==============================] - 1s 26ms/step - loss: 0.0445 - char_1_loss: 0.0081 - char_2_loss: 0.0117 - char_3_loss: 0.0084 - char_4_loss: 0.0103 - char_5_loss: 0.0061 - char_1_accuracy: 0.9995 - char_2_accuracy: 0.9974 - char_3_accuracy: 0.9994 - char_4_accuracy: 0.9976 - char_5_accuracy: 1.0000 - val_loss: 1.3725 - val_char_1_loss: 0.2112 - val_char_2_loss: 0.4151 - val_char_3_loss: 0.3674 - val_char_4_loss: 0.2220 - val_char_5_loss: 0.1568 - val_char_1_accuracy: 0.9246 - val_char_2_accuracy: 0.8894 - val_char_3_accuracy: 0.9095 - val_char_4_accuracy: 0.9246 - val_char_5_accuracy: 0.9447\n",
            "Epoch 52/100\n",
            "25/25 [==============================] - 1s 26ms/step - loss: 0.0593 - char_1_loss: 0.0119 - char_2_loss: 0.0129 - char_3_loss: 0.0121 - char_4_loss: 0.0126 - char_5_loss: 0.0099 - char_1_accuracy: 0.9962 - char_2_accuracy: 1.0000 - char_3_accuracy: 0.9986 - char_4_accuracy: 0.9972 - char_5_accuracy: 0.9984 - val_loss: 1.5041 - val_char_1_loss: 0.2198 - val_char_2_loss: 0.4105 - val_char_3_loss: 0.4194 - val_char_4_loss: 0.2567 - val_char_5_loss: 0.1978 - val_char_1_accuracy: 0.9397 - val_char_2_accuracy: 0.8744 - val_char_3_accuracy: 0.9095 - val_char_4_accuracy: 0.9296 - val_char_5_accuracy: 0.9347\n",
            "Epoch 53/100\n",
            "25/25 [==============================] - 1s 26ms/step - loss: 0.0495 - char_1_loss: 0.0124 - char_2_loss: 0.0105 - char_3_loss: 0.0117 - char_4_loss: 0.0072 - char_5_loss: 0.0076 - char_1_accuracy: 0.9985 - char_2_accuracy: 1.0000 - char_3_accuracy: 1.0000 - char_4_accuracy: 1.0000 - char_5_accuracy: 0.9993 - val_loss: 1.5098 - val_char_1_loss: 0.2127 - val_char_2_loss: 0.4225 - val_char_3_loss: 0.4468 - val_char_4_loss: 0.2594 - val_char_5_loss: 0.1683 - val_char_1_accuracy: 0.9246 - val_char_2_accuracy: 0.8844 - val_char_3_accuracy: 0.9146 - val_char_4_accuracy: 0.9246 - val_char_5_accuracy: 0.9246\n",
            "Epoch 54/100\n",
            "25/25 [==============================] - 1s 26ms/step - loss: 0.0648 - char_1_loss: 0.0107 - char_2_loss: 0.0182 - char_3_loss: 0.0112 - char_4_loss: 0.0094 - char_5_loss: 0.0152 - char_1_accuracy: 0.9962 - char_2_accuracy: 0.9963 - char_3_accuracy: 0.9994 - char_4_accuracy: 1.0000 - char_5_accuracy: 0.9991 - val_loss: 1.5097 - val_char_1_loss: 0.2122 - val_char_2_loss: 0.4446 - val_char_3_loss: 0.4215 - val_char_4_loss: 0.2534 - val_char_5_loss: 0.1781 - val_char_1_accuracy: 0.9246 - val_char_2_accuracy: 0.8844 - val_char_3_accuracy: 0.9196 - val_char_4_accuracy: 0.9196 - val_char_5_accuracy: 0.9296\n",
            "Epoch 55/100\n",
            "25/25 [==============================] - 1s 28ms/step - loss: 0.0511 - char_1_loss: 0.0100 - char_2_loss: 0.0094 - char_3_loss: 0.0112 - char_4_loss: 0.0109 - char_5_loss: 0.0095 - char_1_accuracy: 1.0000 - char_2_accuracy: 1.0000 - char_3_accuracy: 1.0000 - char_4_accuracy: 1.0000 - char_5_accuracy: 1.0000 - val_loss: 1.4516 - val_char_1_loss: 0.1972 - val_char_2_loss: 0.4385 - val_char_3_loss: 0.3956 - val_char_4_loss: 0.2420 - val_char_5_loss: 0.1783 - val_char_1_accuracy: 0.9397 - val_char_2_accuracy: 0.8945 - val_char_3_accuracy: 0.9196 - val_char_4_accuracy: 0.9246 - val_char_5_accuracy: 0.9447\n",
            "Epoch 56/100\n",
            "25/25 [==============================] - 1s 26ms/step - loss: 0.0549 - char_1_loss: 0.0085 - char_2_loss: 0.0144 - char_3_loss: 0.0132 - char_4_loss: 0.0099 - char_5_loss: 0.0089 - char_1_accuracy: 1.0000 - char_2_accuracy: 0.9966 - char_3_accuracy: 1.0000 - char_4_accuracy: 0.9994 - char_5_accuracy: 0.9993 - val_loss: 1.4062 - val_char_1_loss: 0.1852 - val_char_2_loss: 0.4344 - val_char_3_loss: 0.3884 - val_char_4_loss: 0.2335 - val_char_5_loss: 0.1647 - val_char_1_accuracy: 0.9397 - val_char_2_accuracy: 0.8844 - val_char_3_accuracy: 0.9095 - val_char_4_accuracy: 0.9146 - val_char_5_accuracy: 0.9296\n",
            "Epoch 57/100\n",
            "25/25 [==============================] - 1s 26ms/step - loss: 0.0525 - char_1_loss: 0.0090 - char_2_loss: 0.0106 - char_3_loss: 0.0133 - char_4_loss: 0.0128 - char_5_loss: 0.0068 - char_1_accuracy: 1.0000 - char_2_accuracy: 0.9985 - char_3_accuracy: 0.9967 - char_4_accuracy: 0.9981 - char_5_accuracy: 1.0000 - val_loss: 1.4143 - val_char_1_loss: 0.1878 - val_char_2_loss: 0.4430 - val_char_3_loss: 0.4033 - val_char_4_loss: 0.2313 - val_char_5_loss: 0.1490 - val_char_1_accuracy: 0.9447 - val_char_2_accuracy: 0.8844 - val_char_3_accuracy: 0.8995 - val_char_4_accuracy: 0.9146 - val_char_5_accuracy: 0.9397\n",
            "Epoch 58/100\n",
            "25/25 [==============================] - 1s 25ms/step - loss: 0.0543 - char_1_loss: 0.0072 - char_2_loss: 0.0100 - char_3_loss: 0.0139 - char_4_loss: 0.0133 - char_5_loss: 0.0099 - char_1_accuracy: 1.0000 - char_2_accuracy: 0.9997 - char_3_accuracy: 0.9990 - char_4_accuracy: 1.0000 - char_5_accuracy: 1.0000 - val_loss: 1.3611 - val_char_1_loss: 0.1894 - val_char_2_loss: 0.4069 - val_char_3_loss: 0.3807 - val_char_4_loss: 0.2257 - val_char_5_loss: 0.1584 - val_char_1_accuracy: 0.9397 - val_char_2_accuracy: 0.8894 - val_char_3_accuracy: 0.9095 - val_char_4_accuracy: 0.9146 - val_char_5_accuracy: 0.9347\n",
            "Epoch 59/100\n",
            "25/25 [==============================] - 1s 26ms/step - loss: 0.0463 - char_1_loss: 0.0071 - char_2_loss: 0.0108 - char_3_loss: 0.0094 - char_4_loss: 0.0103 - char_5_loss: 0.0087 - char_1_accuracy: 1.0000 - char_2_accuracy: 0.9981 - char_3_accuracy: 1.0000 - char_4_accuracy: 0.9992 - char_5_accuracy: 0.9994 - val_loss: 1.3818 - val_char_1_loss: 0.1973 - val_char_2_loss: 0.4056 - val_char_3_loss: 0.3904 - val_char_4_loss: 0.2311 - val_char_5_loss: 0.1573 - val_char_1_accuracy: 0.9397 - val_char_2_accuracy: 0.8794 - val_char_3_accuracy: 0.9146 - val_char_4_accuracy: 0.9196 - val_char_5_accuracy: 0.9447\n",
            "Epoch 60/100\n",
            "25/25 [==============================] - 1s 26ms/step - loss: 0.0398 - char_1_loss: 0.0087 - char_2_loss: 0.0104 - char_3_loss: 0.0084 - char_4_loss: 0.0063 - char_5_loss: 0.0060 - char_1_accuracy: 1.0000 - char_2_accuracy: 1.0000 - char_3_accuracy: 1.0000 - char_4_accuracy: 1.0000 - char_5_accuracy: 1.0000 - val_loss: 1.3731 - val_char_1_loss: 0.1970 - val_char_2_loss: 0.3922 - val_char_3_loss: 0.3780 - val_char_4_loss: 0.2378 - val_char_5_loss: 0.1681 - val_char_1_accuracy: 0.9296 - val_char_2_accuracy: 0.8894 - val_char_3_accuracy: 0.9146 - val_char_4_accuracy: 0.9196 - val_char_5_accuracy: 0.9347\n",
            "Epoch 61/100\n",
            "25/25 [==============================] - 1s 26ms/step - loss: 0.0611 - char_1_loss: 0.0056 - char_2_loss: 0.0146 - char_3_loss: 0.0119 - char_4_loss: 0.0121 - char_5_loss: 0.0169 - char_1_accuracy: 1.0000 - char_2_accuracy: 0.9995 - char_3_accuracy: 0.9979 - char_4_accuracy: 0.9982 - char_5_accuracy: 0.9940 - val_loss: 1.4056 - val_char_1_loss: 0.1982 - val_char_2_loss: 0.4194 - val_char_3_loss: 0.3788 - val_char_4_loss: 0.2451 - val_char_5_loss: 0.1640 - val_char_1_accuracy: 0.9296 - val_char_2_accuracy: 0.8945 - val_char_3_accuracy: 0.9296 - val_char_4_accuracy: 0.9196 - val_char_5_accuracy: 0.9347\n",
            "Epoch 62/100\n",
            "25/25 [==============================] - 1s 26ms/step - loss: 0.0396 - char_1_loss: 0.0085 - char_2_loss: 0.0082 - char_3_loss: 0.0083 - char_4_loss: 0.0087 - char_5_loss: 0.0058 - char_1_accuracy: 1.0000 - char_2_accuracy: 0.9998 - char_3_accuracy: 0.9997 - char_4_accuracy: 0.9978 - char_5_accuracy: 1.0000 - val_loss: 1.3729 - val_char_1_loss: 0.2034 - val_char_2_loss: 0.4085 - val_char_3_loss: 0.3615 - val_char_4_loss: 0.2391 - val_char_5_loss: 0.1605 - val_char_1_accuracy: 0.9196 - val_char_2_accuracy: 0.8844 - val_char_3_accuracy: 0.9146 - val_char_4_accuracy: 0.9296 - val_char_5_accuracy: 0.9347\n",
            "Epoch 63/100\n",
            "25/25 [==============================] - 1s 26ms/step - loss: 0.0489 - char_1_loss: 0.0066 - char_2_loss: 0.0142 - char_3_loss: 0.0100 - char_4_loss: 0.0109 - char_5_loss: 0.0072 - char_1_accuracy: 0.9996 - char_2_accuracy: 0.9952 - char_3_accuracy: 0.9983 - char_4_accuracy: 0.9974 - char_5_accuracy: 1.0000 - val_loss: 1.3298 - val_char_1_loss: 0.1926 - val_char_2_loss: 0.3920 - val_char_3_loss: 0.3508 - val_char_4_loss: 0.2368 - val_char_5_loss: 0.1576 - val_char_1_accuracy: 0.9296 - val_char_2_accuracy: 0.9045 - val_char_3_accuracy: 0.9146 - val_char_4_accuracy: 0.9296 - val_char_5_accuracy: 0.9296\n",
            "Epoch 64/100\n",
            "25/25 [==============================] - 1s 26ms/step - loss: 0.0477 - char_1_loss: 0.0080 - char_2_loss: 0.0079 - char_3_loss: 0.0104 - char_4_loss: 0.0096 - char_5_loss: 0.0118 - char_1_accuracy: 1.0000 - char_2_accuracy: 1.0000 - char_3_accuracy: 1.0000 - char_4_accuracy: 1.0000 - char_5_accuracy: 0.9997 - val_loss: 1.3597 - val_char_1_loss: 0.1930 - val_char_2_loss: 0.3856 - val_char_3_loss: 0.3734 - val_char_4_loss: 0.2393 - val_char_5_loss: 0.1684 - val_char_1_accuracy: 0.9347 - val_char_2_accuracy: 0.9095 - val_char_3_accuracy: 0.9095 - val_char_4_accuracy: 0.9146 - val_char_5_accuracy: 0.9347\n",
            "Epoch 65/100\n",
            "25/25 [==============================] - 1s 26ms/step - loss: 0.0631 - char_1_loss: 0.0166 - char_2_loss: 0.0094 - char_3_loss: 0.0158 - char_4_loss: 0.0148 - char_5_loss: 0.0064 - char_1_accuracy: 0.9954 - char_2_accuracy: 0.9993 - char_3_accuracy: 0.9938 - char_4_accuracy: 0.9972 - char_5_accuracy: 1.0000 - val_loss: 1.3895 - val_char_1_loss: 0.1995 - val_char_2_loss: 0.4063 - val_char_3_loss: 0.3629 - val_char_4_loss: 0.2517 - val_char_5_loss: 0.1691 - val_char_1_accuracy: 0.9246 - val_char_2_accuracy: 0.8945 - val_char_3_accuracy: 0.9246 - val_char_4_accuracy: 0.9196 - val_char_5_accuracy: 0.9397\n",
            "Epoch 66/100\n",
            "25/25 [==============================] - 1s 26ms/step - loss: 0.0530 - char_1_loss: 0.0051 - char_2_loss: 0.0093 - char_3_loss: 0.0078 - char_4_loss: 0.0188 - char_5_loss: 0.0120 - char_1_accuracy: 1.0000 - char_2_accuracy: 1.0000 - char_3_accuracy: 1.0000 - char_4_accuracy: 0.9982 - char_5_accuracy: 1.0000 - val_loss: 1.4049 - val_char_1_loss: 0.1934 - val_char_2_loss: 0.4013 - val_char_3_loss: 0.3739 - val_char_4_loss: 0.2573 - val_char_5_loss: 0.1790 - val_char_1_accuracy: 0.9397 - val_char_2_accuracy: 0.8995 - val_char_3_accuracy: 0.9045 - val_char_4_accuracy: 0.9246 - val_char_5_accuracy: 0.9296\n",
            "Epoch 67/100\n",
            "25/25 [==============================] - 1s 26ms/step - loss: 0.0399 - char_1_loss: 0.0050 - char_2_loss: 0.0096 - char_3_loss: 0.0093 - char_4_loss: 0.0097 - char_5_loss: 0.0062 - char_1_accuracy: 1.0000 - char_2_accuracy: 1.0000 - char_3_accuracy: 1.0000 - char_4_accuracy: 1.0000 - char_5_accuracy: 1.0000 - val_loss: 1.4314 - val_char_1_loss: 0.1896 - val_char_2_loss: 0.4255 - val_char_3_loss: 0.3925 - val_char_4_loss: 0.2558 - val_char_5_loss: 0.1682 - val_char_1_accuracy: 0.9548 - val_char_2_accuracy: 0.8995 - val_char_3_accuracy: 0.8995 - val_char_4_accuracy: 0.9246 - val_char_5_accuracy: 0.9347\n",
            "Epoch 68/100\n",
            "25/25 [==============================] - 1s 26ms/step - loss: 0.0370 - char_1_loss: 0.0092 - char_2_loss: 0.0080 - char_3_loss: 0.0080 - char_4_loss: 0.0074 - char_5_loss: 0.0044 - char_1_accuracy: 0.9990 - char_2_accuracy: 1.0000 - char_3_accuracy: 1.0000 - char_4_accuracy: 1.0000 - char_5_accuracy: 1.0000 - val_loss: 1.4225 - val_char_1_loss: 0.1940 - val_char_2_loss: 0.4073 - val_char_3_loss: 0.3843 - val_char_4_loss: 0.2570 - val_char_5_loss: 0.1799 - val_char_1_accuracy: 0.9397 - val_char_2_accuracy: 0.8945 - val_char_3_accuracy: 0.9045 - val_char_4_accuracy: 0.9296 - val_char_5_accuracy: 0.9196\n",
            "Epoch 69/100\n",
            "25/25 [==============================] - 1s 26ms/step - loss: 0.0468 - char_1_loss: 0.0102 - char_2_loss: 0.0090 - char_3_loss: 0.0070 - char_4_loss: 0.0109 - char_5_loss: 0.0097 - char_1_accuracy: 1.0000 - char_2_accuracy: 0.9990 - char_3_accuracy: 1.0000 - char_4_accuracy: 1.0000 - char_5_accuracy: 0.9966 - val_loss: 1.4576 - val_char_1_loss: 0.1970 - val_char_2_loss: 0.4140 - val_char_3_loss: 0.3971 - val_char_4_loss: 0.2661 - val_char_5_loss: 0.1833 - val_char_1_accuracy: 0.9347 - val_char_2_accuracy: 0.8945 - val_char_3_accuracy: 0.9146 - val_char_4_accuracy: 0.9146 - val_char_5_accuracy: 0.9146\n",
            "Epoch 70/100\n",
            "25/25 [==============================] - 1s 26ms/step - loss: 0.0388 - char_1_loss: 0.0053 - char_2_loss: 0.0069 - char_3_loss: 0.0091 - char_4_loss: 0.0093 - char_5_loss: 0.0082 - char_1_accuracy: 0.9999 - char_2_accuracy: 1.0000 - char_3_accuracy: 0.9981 - char_4_accuracy: 1.0000 - char_5_accuracy: 0.9996 - val_loss: 1.4392 - val_char_1_loss: 0.1963 - val_char_2_loss: 0.4302 - val_char_3_loss: 0.3900 - val_char_4_loss: 0.2642 - val_char_5_loss: 0.1586 - val_char_1_accuracy: 0.9246 - val_char_2_accuracy: 0.8844 - val_char_3_accuracy: 0.9095 - val_char_4_accuracy: 0.9196 - val_char_5_accuracy: 0.9347\n",
            "Epoch 71/100\n",
            "25/25 [==============================] - 1s 26ms/step - loss: 0.0465 - char_1_loss: 0.0062 - char_2_loss: 0.0168 - char_3_loss: 0.0069 - char_4_loss: 0.0065 - char_5_loss: 0.0101 - char_1_accuracy: 0.9991 - char_2_accuracy: 0.9954 - char_3_accuracy: 1.0000 - char_4_accuracy: 1.0000 - char_5_accuracy: 0.9983 - val_loss: 1.4306 - val_char_1_loss: 0.2051 - val_char_2_loss: 0.4298 - val_char_3_loss: 0.3763 - val_char_4_loss: 0.2528 - val_char_5_loss: 0.1666 - val_char_1_accuracy: 0.9246 - val_char_2_accuracy: 0.8894 - val_char_3_accuracy: 0.9196 - val_char_4_accuracy: 0.9246 - val_char_5_accuracy: 0.9397\n",
            "Epoch 72/100\n",
            "25/25 [==============================] - 1s 26ms/step - loss: 0.0454 - char_1_loss: 0.0105 - char_2_loss: 0.0071 - char_3_loss: 0.0136 - char_4_loss: 0.0056 - char_5_loss: 0.0088 - char_1_accuracy: 0.9988 - char_2_accuracy: 0.9985 - char_3_accuracy: 1.0000 - char_4_accuracy: 1.0000 - char_5_accuracy: 1.0000 - val_loss: 1.4497 - val_char_1_loss: 0.2062 - val_char_2_loss: 0.4321 - val_char_3_loss: 0.4001 - val_char_4_loss: 0.2462 - val_char_5_loss: 0.1650 - val_char_1_accuracy: 0.9397 - val_char_2_accuracy: 0.8844 - val_char_3_accuracy: 0.9045 - val_char_4_accuracy: 0.9095 - val_char_5_accuracy: 0.9447\n",
            "Epoch 73/100\n",
            "25/25 [==============================] - 1s 26ms/step - loss: 0.0427 - char_1_loss: 0.0058 - char_2_loss: 0.0100 - char_3_loss: 0.0094 - char_4_loss: 0.0101 - char_5_loss: 0.0074 - char_1_accuracy: 1.0000 - char_2_accuracy: 1.0000 - char_3_accuracy: 1.0000 - char_4_accuracy: 0.9986 - char_5_accuracy: 1.0000 - val_loss: 1.3345 - val_char_1_loss: 0.1880 - val_char_2_loss: 0.4027 - val_char_3_loss: 0.3599 - val_char_4_loss: 0.2388 - val_char_5_loss: 0.1450 - val_char_1_accuracy: 0.9447 - val_char_2_accuracy: 0.9095 - val_char_3_accuracy: 0.9146 - val_char_4_accuracy: 0.9146 - val_char_5_accuracy: 0.9497\n",
            "Epoch 74/100\n",
            "25/25 [==============================] - 1s 26ms/step - loss: 0.0406 - char_1_loss: 0.0067 - char_2_loss: 0.0081 - char_3_loss: 0.0069 - char_4_loss: 0.0091 - char_5_loss: 0.0099 - char_1_accuracy: 1.0000 - char_2_accuracy: 1.0000 - char_3_accuracy: 1.0000 - char_4_accuracy: 1.0000 - char_5_accuracy: 0.9989 - val_loss: 1.3883 - val_char_1_loss: 0.1913 - val_char_2_loss: 0.4035 - val_char_3_loss: 0.3843 - val_char_4_loss: 0.2583 - val_char_5_loss: 0.1508 - val_char_1_accuracy: 0.9246 - val_char_2_accuracy: 0.9045 - val_char_3_accuracy: 0.9095 - val_char_4_accuracy: 0.9095 - val_char_5_accuracy: 0.9447\n",
            "Epoch 75/100\n",
            "25/25 [==============================] - 1s 27ms/step - loss: 0.0406 - char_1_loss: 0.0097 - char_2_loss: 0.0108 - char_3_loss: 0.0070 - char_4_loss: 0.0079 - char_5_loss: 0.0052 - char_1_accuracy: 1.0000 - char_2_accuracy: 0.9976 - char_3_accuracy: 0.9985 - char_4_accuracy: 1.0000 - char_5_accuracy: 1.0000 - val_loss: 1.3758 - val_char_1_loss: 0.1967 - val_char_2_loss: 0.3998 - val_char_3_loss: 0.3840 - val_char_4_loss: 0.2461 - val_char_5_loss: 0.1492 - val_char_1_accuracy: 0.9347 - val_char_2_accuracy: 0.8945 - val_char_3_accuracy: 0.9146 - val_char_4_accuracy: 0.9095 - val_char_5_accuracy: 0.9397\n",
            "Epoch 76/100\n",
            "25/25 [==============================] - 1s 26ms/step - loss: 0.0515 - char_1_loss: 0.0050 - char_2_loss: 0.0119 - char_3_loss: 0.0109 - char_4_loss: 0.0086 - char_5_loss: 0.0150 - char_1_accuracy: 1.0000 - char_2_accuracy: 0.9947 - char_3_accuracy: 0.9983 - char_4_accuracy: 0.9986 - char_5_accuracy: 0.9939 - val_loss: 1.4345 - val_char_1_loss: 0.2063 - val_char_2_loss: 0.4282 - val_char_3_loss: 0.3989 - val_char_4_loss: 0.2606 - val_char_5_loss: 0.1405 - val_char_1_accuracy: 0.9296 - val_char_2_accuracy: 0.8894 - val_char_3_accuracy: 0.9095 - val_char_4_accuracy: 0.9146 - val_char_5_accuracy: 0.9397\n",
            "Epoch 77/100\n",
            "25/25 [==============================] - 1s 26ms/step - loss: 0.0426 - char_1_loss: 0.0053 - char_2_loss: 0.0066 - char_3_loss: 0.0081 - char_4_loss: 0.0120 - char_5_loss: 0.0105 - char_1_accuracy: 1.0000 - char_2_accuracy: 1.0000 - char_3_accuracy: 1.0000 - char_4_accuracy: 0.9981 - char_5_accuracy: 0.9988 - val_loss: 1.4354 - val_char_1_loss: 0.1955 - val_char_2_loss: 0.4199 - val_char_3_loss: 0.4002 - val_char_4_loss: 0.2541 - val_char_5_loss: 0.1656 - val_char_1_accuracy: 0.9296 - val_char_2_accuracy: 0.8844 - val_char_3_accuracy: 0.9095 - val_char_4_accuracy: 0.9095 - val_char_5_accuracy: 0.9397\n",
            "Epoch 78/100\n",
            "25/25 [==============================] - 1s 26ms/step - loss: 0.0413 - char_1_loss: 0.0068 - char_2_loss: 0.0066 - char_3_loss: 0.0060 - char_4_loss: 0.0104 - char_5_loss: 0.0115 - char_1_accuracy: 1.0000 - char_2_accuracy: 0.9998 - char_3_accuracy: 1.0000 - char_4_accuracy: 0.9998 - char_5_accuracy: 0.9979 - val_loss: 1.4645 - val_char_1_loss: 0.2209 - val_char_2_loss: 0.4241 - val_char_3_loss: 0.4003 - val_char_4_loss: 0.2475 - val_char_5_loss: 0.1716 - val_char_1_accuracy: 0.9296 - val_char_2_accuracy: 0.8844 - val_char_3_accuracy: 0.9095 - val_char_4_accuracy: 0.9045 - val_char_5_accuracy: 0.9196\n",
            "Epoch 79/100\n",
            "25/25 [==============================] - 1s 27ms/step - loss: 0.0522 - char_1_loss: 0.0090 - char_2_loss: 0.0134 - char_3_loss: 0.0053 - char_4_loss: 0.0147 - char_5_loss: 0.0097 - char_1_accuracy: 0.9997 - char_2_accuracy: 0.9999 - char_3_accuracy: 0.9999 - char_4_accuracy: 0.9961 - char_5_accuracy: 0.9979 - val_loss: 1.4603 - val_char_1_loss: 0.2260 - val_char_2_loss: 0.4015 - val_char_3_loss: 0.4022 - val_char_4_loss: 0.2396 - val_char_5_loss: 0.1909 - val_char_1_accuracy: 0.9347 - val_char_2_accuracy: 0.8894 - val_char_3_accuracy: 0.9095 - val_char_4_accuracy: 0.9095 - val_char_5_accuracy: 0.9246\n",
            "Epoch 80/100\n",
            "25/25 [==============================] - 1s 26ms/step - loss: 0.0397 - char_1_loss: 0.0042 - char_2_loss: 0.0087 - char_3_loss: 0.0064 - char_4_loss: 0.0117 - char_5_loss: 0.0087 - char_1_accuracy: 1.0000 - char_2_accuracy: 1.0000 - char_3_accuracy: 1.0000 - char_4_accuracy: 0.9979 - char_5_accuracy: 0.9992 - val_loss: 1.4396 - val_char_1_loss: 0.2275 - val_char_2_loss: 0.4129 - val_char_3_loss: 0.3843 - val_char_4_loss: 0.2440 - val_char_5_loss: 0.1709 - val_char_1_accuracy: 0.9347 - val_char_2_accuracy: 0.9045 - val_char_3_accuracy: 0.9095 - val_char_4_accuracy: 0.9045 - val_char_5_accuracy: 0.9296\n",
            "Epoch 81/100\n",
            "25/25 [==============================] - 1s 26ms/step - loss: 0.0422 - char_1_loss: 0.0089 - char_2_loss: 0.0066 - char_3_loss: 0.0130 - char_4_loss: 0.0069 - char_5_loss: 0.0068 - char_1_accuracy: 1.0000 - char_2_accuracy: 1.0000 - char_3_accuracy: 1.0000 - char_4_accuracy: 1.0000 - char_5_accuracy: 1.0000 - val_loss: 1.4093 - val_char_1_loss: 0.2072 - val_char_2_loss: 0.4104 - val_char_3_loss: 0.3861 - val_char_4_loss: 0.2376 - val_char_5_loss: 0.1680 - val_char_1_accuracy: 0.9397 - val_char_2_accuracy: 0.8945 - val_char_3_accuracy: 0.9045 - val_char_4_accuracy: 0.9095 - val_char_5_accuracy: 0.9347\n",
            "Epoch 82/100\n",
            "25/25 [==============================] - 1s 26ms/step - loss: 0.0382 - char_1_loss: 0.0112 - char_2_loss: 0.0051 - char_3_loss: 0.0091 - char_4_loss: 0.0073 - char_5_loss: 0.0054 - char_1_accuracy: 0.9993 - char_2_accuracy: 1.0000 - char_3_accuracy: 0.9989 - char_4_accuracy: 1.0000 - char_5_accuracy: 0.9995 - val_loss: 1.4021 - val_char_1_loss: 0.2092 - val_char_2_loss: 0.4175 - val_char_3_loss: 0.3781 - val_char_4_loss: 0.2445 - val_char_5_loss: 0.1529 - val_char_1_accuracy: 0.9397 - val_char_2_accuracy: 0.8945 - val_char_3_accuracy: 0.9146 - val_char_4_accuracy: 0.9196 - val_char_5_accuracy: 0.9296\n",
            "Epoch 83/100\n",
            "25/25 [==============================] - 1s 25ms/step - loss: 0.0338 - char_1_loss: 0.0078 - char_2_loss: 0.0077 - char_3_loss: 0.0048 - char_4_loss: 0.0071 - char_5_loss: 0.0063 - char_1_accuracy: 1.0000 - char_2_accuracy: 0.9999 - char_3_accuracy: 1.0000 - char_4_accuracy: 0.9990 - char_5_accuracy: 1.0000 - val_loss: 1.3984 - val_char_1_loss: 0.2093 - val_char_2_loss: 0.4149 - val_char_3_loss: 0.3768 - val_char_4_loss: 0.2491 - val_char_5_loss: 0.1483 - val_char_1_accuracy: 0.9347 - val_char_2_accuracy: 0.8894 - val_char_3_accuracy: 0.9196 - val_char_4_accuracy: 0.9095 - val_char_5_accuracy: 0.9397\n",
            "Epoch 84/100\n",
            "25/25 [==============================] - 1s 26ms/step - loss: 0.0453 - char_1_loss: 0.0085 - char_2_loss: 0.0107 - char_3_loss: 0.0077 - char_4_loss: 0.0057 - char_5_loss: 0.0128 - char_1_accuracy: 1.0000 - char_2_accuracy: 0.9974 - char_3_accuracy: 0.9999 - char_4_accuracy: 1.0000 - char_5_accuracy: 0.9966 - val_loss: 1.4110 - val_char_1_loss: 0.1921 - val_char_2_loss: 0.4188 - val_char_3_loss: 0.3809 - val_char_4_loss: 0.2614 - val_char_5_loss: 0.1578 - val_char_1_accuracy: 0.9347 - val_char_2_accuracy: 0.8844 - val_char_3_accuracy: 0.9246 - val_char_4_accuracy: 0.9045 - val_char_5_accuracy: 0.9397\n",
            "Epoch 85/100\n",
            "25/25 [==============================] - 1s 26ms/step - loss: 0.0545 - char_1_loss: 0.0046 - char_2_loss: 0.0154 - char_3_loss: 0.0113 - char_4_loss: 0.0100 - char_5_loss: 0.0132 - char_1_accuracy: 1.0000 - char_2_accuracy: 0.9983 - char_3_accuracy: 1.0000 - char_4_accuracy: 0.9994 - char_5_accuracy: 0.9985 - val_loss: 1.3993 - val_char_1_loss: 0.2006 - val_char_2_loss: 0.4293 - val_char_3_loss: 0.3625 - val_char_4_loss: 0.2621 - val_char_5_loss: 0.1448 - val_char_1_accuracy: 0.9347 - val_char_2_accuracy: 0.8844 - val_char_3_accuracy: 0.9246 - val_char_4_accuracy: 0.9246 - val_char_5_accuracy: 0.9497\n",
            "Epoch 86/100\n",
            "25/25 [==============================] - 1s 26ms/step - loss: 0.0475 - char_1_loss: 0.0073 - char_2_loss: 0.0101 - char_3_loss: 0.0095 - char_4_loss: 0.0102 - char_5_loss: 0.0104 - char_1_accuracy: 0.9992 - char_2_accuracy: 1.0000 - char_3_accuracy: 0.9996 - char_4_accuracy: 0.9979 - char_5_accuracy: 0.9993 - val_loss: 1.3903 - val_char_1_loss: 0.2142 - val_char_2_loss: 0.4052 - val_char_3_loss: 0.3560 - val_char_4_loss: 0.2470 - val_char_5_loss: 0.1680 - val_char_1_accuracy: 0.9347 - val_char_2_accuracy: 0.9045 - val_char_3_accuracy: 0.9196 - val_char_4_accuracy: 0.9146 - val_char_5_accuracy: 0.9347\n",
            "Epoch 87/100\n",
            "25/25 [==============================] - 1s 26ms/step - loss: 0.0604 - char_1_loss: 0.0053 - char_2_loss: 0.0098 - char_3_loss: 0.0091 - char_4_loss: 0.0096 - char_5_loss: 0.0266 - char_1_accuracy: 1.0000 - char_2_accuracy: 0.9976 - char_3_accuracy: 0.9990 - char_4_accuracy: 0.9993 - char_5_accuracy: 0.9934 - val_loss: 1.5493 - val_char_1_loss: 0.2453 - val_char_2_loss: 0.4373 - val_char_3_loss: 0.4305 - val_char_4_loss: 0.2470 - val_char_5_loss: 0.1892 - val_char_1_accuracy: 0.9347 - val_char_2_accuracy: 0.8945 - val_char_3_accuracy: 0.8894 - val_char_4_accuracy: 0.9347 - val_char_5_accuracy: 0.9296\n",
            "Epoch 88/100\n",
            "25/25 [==============================] - 1s 26ms/step - loss: 0.0451 - char_1_loss: 0.0084 - char_2_loss: 0.0075 - char_3_loss: 0.0095 - char_4_loss: 0.0093 - char_5_loss: 0.0105 - char_1_accuracy: 0.9997 - char_2_accuracy: 1.0000 - char_3_accuracy: 0.9981 - char_4_accuracy: 0.9993 - char_5_accuracy: 0.9998 - val_loss: 1.4835 - val_char_1_loss: 0.2174 - val_char_2_loss: 0.4284 - val_char_3_loss: 0.4134 - val_char_4_loss: 0.2452 - val_char_5_loss: 0.1791 - val_char_1_accuracy: 0.9296 - val_char_2_accuracy: 0.8945 - val_char_3_accuracy: 0.8995 - val_char_4_accuracy: 0.9196 - val_char_5_accuracy: 0.9246\n",
            "Epoch 89/100\n",
            "25/25 [==============================] - 1s 26ms/step - loss: 0.0391 - char_1_loss: 0.0072 - char_2_loss: 0.0073 - char_3_loss: 0.0106 - char_4_loss: 0.0079 - char_5_loss: 0.0060 - char_1_accuracy: 1.0000 - char_2_accuracy: 0.9999 - char_3_accuracy: 1.0000 - char_4_accuracy: 1.0000 - char_5_accuracy: 1.0000 - val_loss: 1.4884 - val_char_1_loss: 0.2226 - val_char_2_loss: 0.4243 - val_char_3_loss: 0.4278 - val_char_4_loss: 0.2423 - val_char_5_loss: 0.1714 - val_char_1_accuracy: 0.9196 - val_char_2_accuracy: 0.8995 - val_char_3_accuracy: 0.8995 - val_char_4_accuracy: 0.9246 - val_char_5_accuracy: 0.9246\n",
            "Epoch 90/100\n",
            "25/25 [==============================] - 1s 26ms/step - loss: 0.0481 - char_1_loss: 0.0066 - char_2_loss: 0.0076 - char_3_loss: 0.0081 - char_4_loss: 0.0195 - char_5_loss: 0.0064 - char_1_accuracy: 0.9999 - char_2_accuracy: 1.0000 - char_3_accuracy: 1.0000 - char_4_accuracy: 0.9951 - char_5_accuracy: 1.0000 - val_loss: 1.4128 - val_char_1_loss: 0.1992 - val_char_2_loss: 0.3819 - val_char_3_loss: 0.4062 - val_char_4_loss: 0.2519 - val_char_5_loss: 0.1737 - val_char_1_accuracy: 0.9347 - val_char_2_accuracy: 0.8945 - val_char_3_accuracy: 0.9095 - val_char_4_accuracy: 0.9246 - val_char_5_accuracy: 0.9296\n",
            "Epoch 91/100\n",
            "25/25 [==============================] - 1s 26ms/step - loss: 0.0516 - char_1_loss: 0.0092 - char_2_loss: 0.0133 - char_3_loss: 0.0126 - char_4_loss: 0.0062 - char_5_loss: 0.0104 - char_1_accuracy: 1.0000 - char_2_accuracy: 1.0000 - char_3_accuracy: 0.9991 - char_4_accuracy: 1.0000 - char_5_accuracy: 1.0000 - val_loss: 1.3928 - val_char_1_loss: 0.2028 - val_char_2_loss: 0.4085 - val_char_3_loss: 0.3881 - val_char_4_loss: 0.2471 - val_char_5_loss: 0.1462 - val_char_1_accuracy: 0.9397 - val_char_2_accuracy: 0.8995 - val_char_3_accuracy: 0.9045 - val_char_4_accuracy: 0.9296 - val_char_5_accuracy: 0.9397\n",
            "Epoch 92/100\n",
            "25/25 [==============================] - 1s 26ms/step - loss: 0.0469 - char_1_loss: 0.0084 - char_2_loss: 0.0059 - char_3_loss: 0.0171 - char_4_loss: 0.0102 - char_5_loss: 0.0052 - char_1_accuracy: 1.0000 - char_2_accuracy: 1.0000 - char_3_accuracy: 0.9937 - char_4_accuracy: 1.0000 - char_5_accuracy: 1.0000 - val_loss: 1.3883 - val_char_1_loss: 0.2016 - val_char_2_loss: 0.4086 - val_char_3_loss: 0.3797 - val_char_4_loss: 0.2354 - val_char_5_loss: 0.1629 - val_char_1_accuracy: 0.9447 - val_char_2_accuracy: 0.8844 - val_char_3_accuracy: 0.8995 - val_char_4_accuracy: 0.9296 - val_char_5_accuracy: 0.9246\n",
            "Epoch 93/100\n",
            "25/25 [==============================] - 1s 26ms/step - loss: 0.0341 - char_1_loss: 0.0075 - char_2_loss: 0.0068 - char_3_loss: 0.0068 - char_4_loss: 0.0060 - char_5_loss: 0.0071 - char_1_accuracy: 1.0000 - char_2_accuracy: 1.0000 - char_3_accuracy: 1.0000 - char_4_accuracy: 1.0000 - char_5_accuracy: 0.9997 - val_loss: 1.3821 - val_char_1_loss: 0.1857 - val_char_2_loss: 0.4064 - val_char_3_loss: 0.3798 - val_char_4_loss: 0.2460 - val_char_5_loss: 0.1642 - val_char_1_accuracy: 0.9347 - val_char_2_accuracy: 0.8894 - val_char_3_accuracy: 0.9246 - val_char_4_accuracy: 0.9146 - val_char_5_accuracy: 0.9296\n",
            "Epoch 94/100\n",
            "25/25 [==============================] - 1s 26ms/step - loss: 0.0383 - char_1_loss: 0.0060 - char_2_loss: 0.0108 - char_3_loss: 0.0079 - char_4_loss: 0.0080 - char_5_loss: 0.0056 - char_1_accuracy: 0.9989 - char_2_accuracy: 0.9996 - char_3_accuracy: 1.0000 - char_4_accuracy: 1.0000 - char_5_accuracy: 0.9999 - val_loss: 1.3669 - val_char_1_loss: 0.1903 - val_char_2_loss: 0.3989 - val_char_3_loss: 0.3773 - val_char_4_loss: 0.2339 - val_char_5_loss: 0.1667 - val_char_1_accuracy: 0.9347 - val_char_2_accuracy: 0.8844 - val_char_3_accuracy: 0.9146 - val_char_4_accuracy: 0.9296 - val_char_5_accuracy: 0.9196\n",
            "Epoch 95/100\n",
            "25/25 [==============================] - 1s 27ms/step - loss: 0.0359 - char_1_loss: 0.0043 - char_2_loss: 0.0082 - char_3_loss: 0.0058 - char_4_loss: 0.0081 - char_5_loss: 0.0095 - char_1_accuracy: 0.9997 - char_2_accuracy: 0.9983 - char_3_accuracy: 1.0000 - char_4_accuracy: 0.9994 - char_5_accuracy: 0.9976 - val_loss: 1.3499 - val_char_1_loss: 0.1871 - val_char_2_loss: 0.4009 - val_char_3_loss: 0.3789 - val_char_4_loss: 0.2321 - val_char_5_loss: 0.1508 - val_char_1_accuracy: 0.9447 - val_char_2_accuracy: 0.8945 - val_char_3_accuracy: 0.9146 - val_char_4_accuracy: 0.9347 - val_char_5_accuracy: 0.9347\n",
            "Epoch 96/100\n",
            "25/25 [==============================] - 1s 26ms/step - loss: 0.0429 - char_1_loss: 0.0127 - char_2_loss: 0.0068 - char_3_loss: 0.0085 - char_4_loss: 0.0073 - char_5_loss: 0.0076 - char_1_accuracy: 0.9966 - char_2_accuracy: 1.0000 - char_3_accuracy: 0.9992 - char_4_accuracy: 0.9999 - char_5_accuracy: 0.9990 - val_loss: 1.4263 - val_char_1_loss: 0.1817 - val_char_2_loss: 0.4278 - val_char_3_loss: 0.3604 - val_char_4_loss: 0.2577 - val_char_5_loss: 0.1986 - val_char_1_accuracy: 0.9347 - val_char_2_accuracy: 0.8794 - val_char_3_accuracy: 0.9296 - val_char_4_accuracy: 0.9296 - val_char_5_accuracy: 0.9146\n",
            "Epoch 97/100\n",
            "25/25 [==============================] - 1s 26ms/step - loss: 0.0373 - char_1_loss: 0.0084 - char_2_loss: 0.0060 - char_3_loss: 0.0102 - char_4_loss: 0.0053 - char_5_loss: 0.0074 - char_1_accuracy: 0.9996 - char_2_accuracy: 1.0000 - char_3_accuracy: 0.9988 - char_4_accuracy: 1.0000 - char_5_accuracy: 1.0000 - val_loss: 1.4042 - val_char_1_loss: 0.1822 - val_char_2_loss: 0.4149 - val_char_3_loss: 0.3659 - val_char_4_loss: 0.2499 - val_char_5_loss: 0.1913 - val_char_1_accuracy: 0.9447 - val_char_2_accuracy: 0.8894 - val_char_3_accuracy: 0.9146 - val_char_4_accuracy: 0.9296 - val_char_5_accuracy: 0.9296\n",
            "Epoch 98/100\n",
            "25/25 [==============================] - 1s 26ms/step - loss: 0.0411 - char_1_loss: 0.0117 - char_2_loss: 0.0095 - char_3_loss: 0.0053 - char_4_loss: 0.0060 - char_5_loss: 0.0087 - char_1_accuracy: 0.9957 - char_2_accuracy: 1.0000 - char_3_accuracy: 1.0000 - char_4_accuracy: 1.0000 - char_5_accuracy: 0.9979 - val_loss: 1.4015 - val_char_1_loss: 0.1874 - val_char_2_loss: 0.4248 - val_char_3_loss: 0.3679 - val_char_4_loss: 0.2501 - val_char_5_loss: 0.1714 - val_char_1_accuracy: 0.9497 - val_char_2_accuracy: 0.8794 - val_char_3_accuracy: 0.9095 - val_char_4_accuracy: 0.9246 - val_char_5_accuracy: 0.9246\n",
            "Epoch 99/100\n",
            "25/25 [==============================] - 1s 27ms/step - loss: 0.0349 - char_1_loss: 0.0057 - char_2_loss: 0.0061 - char_3_loss: 0.0083 - char_4_loss: 0.0072 - char_5_loss: 0.0076 - char_1_accuracy: 1.0000 - char_2_accuracy: 0.9999 - char_3_accuracy: 0.9992 - char_4_accuracy: 0.9997 - char_5_accuracy: 0.9994 - val_loss: 1.3808 - val_char_1_loss: 0.1972 - val_char_2_loss: 0.4277 - val_char_3_loss: 0.3582 - val_char_4_loss: 0.2407 - val_char_5_loss: 0.1571 - val_char_1_accuracy: 0.9497 - val_char_2_accuracy: 0.8844 - val_char_3_accuracy: 0.9246 - val_char_4_accuracy: 0.9246 - val_char_5_accuracy: 0.9296\n",
            "Epoch 100/100\n",
            "25/25 [==============================] - 1s 27ms/step - loss: 0.0460 - char_1_loss: 0.0101 - char_2_loss: 0.0124 - char_3_loss: 0.0067 - char_4_loss: 0.0095 - char_5_loss: 0.0072 - char_1_accuracy: 1.0000 - char_2_accuracy: 0.9950 - char_3_accuracy: 0.9997 - char_4_accuracy: 0.9979 - char_5_accuracy: 0.9991 - val_loss: 1.3430 - val_char_1_loss: 0.1861 - val_char_2_loss: 0.4046 - val_char_3_loss: 0.3638 - val_char_4_loss: 0.2408 - val_char_5_loss: 0.1477 - val_char_1_accuracy: 0.9397 - val_char_2_accuracy: 0.8945 - val_char_3_accuracy: 0.9296 - val_char_4_accuracy: 0.9246 - val_char_5_accuracy: 0.9447\n"
          ],
          "name": "stdout"
        }
      ]
    },
    {
      "cell_type": "code",
      "metadata": {
        "id": "fSoVcM-Lae6n"
      },
      "source": [
        "model.save('ata.hdf5')"
      ],
      "execution_count": null,
      "outputs": []
    },
    {
      "cell_type": "code",
      "metadata": {
        "colab": {
          "base_uri": "https://localhost:8080/"
        },
        "id": "YCgEUpuxb_87",
        "outputId": "543d5dfd-41fb-4674-d528-9e1883333f79"
      },
      "source": [
        "model.predict(X[0].reshape(-1, 42, 175, 1))"
      ],
      "execution_count": null,
      "outputs": [
        {
          "output_type": "execute_result",
          "data": {
            "text/plain": [
              "[array([[8.4952359e-07, 8.6542883e-08, 9.9999321e-01, 1.0793406e-07,\n",
              "         2.6471932e-06, 3.0591454e-07, 3.2190908e-07, 1.4953762e-06,\n",
              "         7.4779967e-07, 2.2761080e-07]], dtype=float32),\n",
              " array([[3.5061797e-07, 2.0248791e-07, 2.5604857e-07, 2.3710372e-06,\n",
              "         3.0507643e-08, 9.9999392e-01, 7.6401744e-07, 8.4302968e-07,\n",
              "         1.7525657e-07, 1.1805662e-06]], dtype=float32),\n",
              " array([[9.9998844e-01, 1.0779884e-06, 1.0338633e-07, 9.4759093e-07,\n",
              "         3.4317145e-07, 3.1954320e-07, 3.3360450e-06, 1.9587933e-06,\n",
              "         8.6099249e-08, 3.3477481e-06]], dtype=float32),\n",
              " array([[9.8827407e-08, 2.1367402e-06, 2.8580462e-07, 2.0294918e-07,\n",
              "         9.9999571e-01, 4.9991481e-08, 1.1166619e-07, 4.2295252e-07,\n",
              "         1.1969321e-07, 9.6622773e-07]], dtype=float32),\n",
              " array([[2.5072057e-07, 1.8775795e-07, 9.9999070e-01, 4.7763848e-07,\n",
              "         5.5897436e-07, 2.2524704e-07, 9.3694055e-08, 2.2955178e-06,\n",
              "         8.1848896e-07, 4.2921638e-06]], dtype=float32)]"
            ]
          },
          "metadata": {
            "tags": []
          },
          "execution_count": 20
        }
      ]
    },
    {
      "cell_type": "code",
      "metadata": {
        "colab": {
          "base_uri": "https://localhost:8080/"
        },
        "id": "5LAC4aIBcKwp",
        "outputId": "42a32a0e-ed3b-42e9-b2d6-2bf5ff92f984"
      },
      "source": [
        "np.argmax(model.predict(X[0].reshape(-1, 42, 175, 1)), axis=0)"
      ],
      "execution_count": null,
      "outputs": [
        {
          "output_type": "execute_result",
          "data": {
            "text/plain": [
              "array([[2, 3, 0, 1, 3, 1, 2, 4, 4, 4]])"
            ]
          },
          "metadata": {
            "tags": []
          },
          "execution_count": 25
        }
      ]
    },
    {
      "cell_type": "code",
      "metadata": {
        "id": "0D9tHADKccfZ"
      },
      "source": [
        "pred = model.predict(X[0].reshape(-1, 42, 175, 1))"
      ],
      "execution_count": null,
      "outputs": []
    },
    {
      "cell_type": "code",
      "metadata": {
        "id": "FLWDvwM8crCK"
      },
      "source": [
        "li = []\n",
        "for i in pred:\n",
        "  li.append(str(np.argmax(i)))\n",
        "string = ''.join(li)"
      ],
      "execution_count": null,
      "outputs": []
    },
    {
      "cell_type": "code",
      "metadata": {
        "colab": {
          "base_uri": "https://localhost:8080/"
        },
        "id": "pT43s6tNdDHx",
        "outputId": "91357bbb-5cb4-4b9d-8c1f-4756332df8ca"
      },
      "source": [
        "print(string)"
      ],
      "execution_count": null,
      "outputs": [
        {
          "output_type": "stream",
          "text": [
            "25042\n"
          ],
          "name": "stdout"
        }
      ]
    },
    {
      "cell_type": "code",
      "metadata": {
        "colab": {
          "base_uri": "https://localhost:8080/"
        },
        "id": "Qv9VJLqjdGTq",
        "outputId": "703dcb16-f5d4-45f8-96ad-4bf1f043a1d3"
      },
      "source": [
        "li"
      ],
      "execution_count": null,
      "outputs": [
        {
          "output_type": "execute_result",
          "data": {
            "text/plain": [
              "['2']"
            ]
          },
          "metadata": {
            "tags": []
          },
          "execution_count": 32
        }
      ]
    },
    {
      "cell_type": "code",
      "metadata": {
        "id": "z18je55edJ1e"
      },
      "source": [
        "import cv2\n",
        "from tensorflow import keras\n",
        "input = keras.layers.Input(shape=(42, 175, 1))\n",
        "x = keras.layers.Conv2D(32, (5,5),padding='valid',activation='relu')(input)\n",
        "x = keras.layers.MaxPooling2D((2,2),padding='same')(x)\n",
        "x = keras.layers.Conv2D(64, (3,3),padding='same',activation='relu')(x)\n",
        "x = keras.layers.MaxPooling2D((2,2),padding='same')(x)\n",
        "x = keras.layers.Conv2D(128, (3,3),padding='same',activation='relu')(x)\n",
        "maxpool = keras.layers.MaxPooling2D((2,2),padding='same')(x)\n",
        "outputs = []\n",
        "for i in range(5):\n",
        "    x = keras.layers.Conv2D(256, (3,3),padding='same',activation='relu')(maxpool)\n",
        "    x = keras.layers.MaxPooling2D((2,2),padding='same')(x)\n",
        "    x = keras.layers.Flatten()(x)\n",
        "    x = keras.layers.Dropout(0.5)(x)\n",
        "    x = keras.layers.BatchNormalization()(x)\n",
        "    x = keras.layers.Dense(64, activation='relu')(x)\n",
        "    x = keras.layers.Dropout(0.5)(x)\n",
        "    x = keras.layers.BatchNormalization()(x)\n",
        "    x = keras.layers.Dense(10 , activation='softmax' , name=f'char_{i+1}')(x)\n",
        "    outputs.append(x)\n",
        "model = keras.models.Model(inputs = input , outputs=outputs)\n",
        "model.load_weights('/content/ata.hdf5')\n",
        "def read_captcha(img_add):#gets the img full address\n",
        "  img = cv2.imread(img_add, 0)\n",
        "  img = np.array(img)/255.0\n",
        "  pred = model.predict(img.reshape(-1, 42, 175, 1))\n",
        "  li = []\n",
        "  for i in pred:\n",
        "    li.append(str(np.argmax(i)))\n",
        "  string = ''.join(li)\n",
        "  return string"
      ],
      "execution_count": null,
      "outputs": []
    },
    {
      "cell_type": "code",
      "metadata": {
        "colab": {
          "base_uri": "https://localhost:8080/",
          "height": 35
        },
        "id": "4Pz_W3-jesXV",
        "outputId": "1a2c866b-1fad-4379-b776-e0364665d992"
      },
      "source": [
        "read_captcha('/content/drive/MyDrive/Ata/00642.jpg')"
      ],
      "execution_count": null,
      "outputs": [
        {
          "output_type": "execute_result",
          "data": {
            "application/vnd.google.colaboratory.intrinsic+json": {
              "type": "string"
            },
            "text/plain": [
              "'00642'"
            ]
          },
          "metadata": {
            "tags": []
          },
          "execution_count": 43
        }
      ]
    },
    {
      "cell_type": "code",
      "metadata": {
        "id": "PdCO6trPeyWT"
      },
      "source": [
        ""
      ],
      "execution_count": null,
      "outputs": []
    }
  ]
}