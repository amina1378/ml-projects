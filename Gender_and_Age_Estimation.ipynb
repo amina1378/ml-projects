{
  "nbformat": 4,
  "nbformat_minor": 0,
  "metadata": {
    "colab": {
      "name": "Gender and Age Estimation.ipynb",
      "provenance": [],
      "collapsed_sections": []
    },
    "kernelspec": {
      "name": "python3",
      "display_name": "Python 3"
    },
    "language_info": {
      "name": "python"
    },
    "accelerator": "GPU"
  },
  "cells": [
    {
      "cell_type": "code",
      "metadata": {
        "id": "w13zfPwoQXNa"
      },
      "source": [
        "import os\n",
        "import numpy as np\n",
        "import pandas as pd\n",
        "from tensorflow import keras\n",
        "os.environ['KAGGLE_USERNAME'] = \"aminnajaf\"\n",
        "os.environ['KAGGLE_KEY'] = \"fcbc4abc30fb80fcedc3e58ce65eed9c\""
      ],
      "execution_count": 1,
      "outputs": []
    },
    {
      "cell_type": "code",
      "metadata": {
        "colab": {
          "base_uri": "https://localhost:8080/"
        },
        "id": "1iAEcbAYinfv",
        "outputId": "d5ca73fd-ddcf-4a8f-825b-16175ed08045"
      },
      "source": [
        "!kaggle datasets download -d nipunarora8/age-gender-and-ethnicity-face-data-csv"
      ],
      "execution_count": 2,
      "outputs": [
        {
          "output_type": "stream",
          "text": [
            "age-gender-and-ethnicity-face-data-csv.zip: Skipping, found more recently modified local copy (use --force to force download)\n"
          ],
          "name": "stdout"
        }
      ]
    },
    {
      "cell_type": "code",
      "metadata": {
        "id": "Q5BGTszhiqIb"
      },
      "source": [
        "from zipfile import ZipFile"
      ],
      "execution_count": 3,
      "outputs": []
    },
    {
      "cell_type": "code",
      "metadata": {
        "id": "M6eVPiW6itz1"
      },
      "source": [
        "with ZipFile('/content/age-gender-and-ethnicity-face-data-csv.zip', 'r') as zipObj:\n",
        "   zipObj.extractall()"
      ],
      "execution_count": 4,
      "outputs": []
    },
    {
      "cell_type": "code",
      "metadata": {
        "id": "LF1MoOOLiwwX"
      },
      "source": [
        "data = pd.read_csv('/content/age_gender.csv')"
      ],
      "execution_count": 5,
      "outputs": []
    },
    {
      "cell_type": "code",
      "metadata": {
        "colab": {
          "base_uri": "https://localhost:8080/",
          "height": 204
        },
        "id": "J8lkaVfXi3tR",
        "outputId": "fc8d3b6b-b9ea-4511-87b3-00fdc261eb48"
      },
      "source": [
        "data.head()"
      ],
      "execution_count": 6,
      "outputs": [
        {
          "output_type": "execute_result",
          "data": {
            "text/html": [
              "<div>\n",
              "<style scoped>\n",
              "    .dataframe tbody tr th:only-of-type {\n",
              "        vertical-align: middle;\n",
              "    }\n",
              "\n",
              "    .dataframe tbody tr th {\n",
              "        vertical-align: top;\n",
              "    }\n",
              "\n",
              "    .dataframe thead th {\n",
              "        text-align: right;\n",
              "    }\n",
              "</style>\n",
              "<table border=\"1\" class=\"dataframe\">\n",
              "  <thead>\n",
              "    <tr style=\"text-align: right;\">\n",
              "      <th></th>\n",
              "      <th>age</th>\n",
              "      <th>ethnicity</th>\n",
              "      <th>gender</th>\n",
              "      <th>img_name</th>\n",
              "      <th>pixels</th>\n",
              "    </tr>\n",
              "  </thead>\n",
              "  <tbody>\n",
              "    <tr>\n",
              "      <th>0</th>\n",
              "      <td>1</td>\n",
              "      <td>2</td>\n",
              "      <td>0</td>\n",
              "      <td>20161219203650636.jpg.chip.jpg</td>\n",
              "      <td>129 128 128 126 127 130 133 135 139 142 145 14...</td>\n",
              "    </tr>\n",
              "    <tr>\n",
              "      <th>1</th>\n",
              "      <td>1</td>\n",
              "      <td>2</td>\n",
              "      <td>0</td>\n",
              "      <td>20161219222752047.jpg.chip.jpg</td>\n",
              "      <td>164 74 111 168 169 171 175 182 184 188 193 199...</td>\n",
              "    </tr>\n",
              "    <tr>\n",
              "      <th>2</th>\n",
              "      <td>1</td>\n",
              "      <td>2</td>\n",
              "      <td>0</td>\n",
              "      <td>20161219222832191.jpg.chip.jpg</td>\n",
              "      <td>67 70 71 70 69 67 70 79 90 103 116 132 145 155...</td>\n",
              "    </tr>\n",
              "    <tr>\n",
              "      <th>3</th>\n",
              "      <td>1</td>\n",
              "      <td>2</td>\n",
              "      <td>0</td>\n",
              "      <td>20161220144911423.jpg.chip.jpg</td>\n",
              "      <td>193 197 198 200 199 200 202 203 204 205 208 21...</td>\n",
              "    </tr>\n",
              "    <tr>\n",
              "      <th>4</th>\n",
              "      <td>1</td>\n",
              "      <td>2</td>\n",
              "      <td>0</td>\n",
              "      <td>20161220144914327.jpg.chip.jpg</td>\n",
              "      <td>202 205 209 210 209 209 210 211 212 214 218 21...</td>\n",
              "    </tr>\n",
              "  </tbody>\n",
              "</table>\n",
              "</div>"
            ],
            "text/plain": [
              "   age  ...                                             pixels\n",
              "0    1  ...  129 128 128 126 127 130 133 135 139 142 145 14...\n",
              "1    1  ...  164 74 111 168 169 171 175 182 184 188 193 199...\n",
              "2    1  ...  67 70 71 70 69 67 70 79 90 103 116 132 145 155...\n",
              "3    1  ...  193 197 198 200 199 200 202 203 204 205 208 21...\n",
              "4    1  ...  202 205 209 210 209 209 210 211 212 214 218 21...\n",
              "\n",
              "[5 rows x 5 columns]"
            ]
          },
          "metadata": {
            "tags": []
          },
          "execution_count": 6
        }
      ]
    },
    {
      "cell_type": "code",
      "metadata": {
        "colab": {
          "base_uri": "https://localhost:8080/"
        },
        "id": "TJHPnca4i5Ju",
        "outputId": "7aeb3089-fbf5-410c-dbc7-a6787dc4a063"
      },
      "source": [
        "data.dtypes"
      ],
      "execution_count": 7,
      "outputs": [
        {
          "output_type": "execute_result",
          "data": {
            "text/plain": [
              "age           int64\n",
              "ethnicity     int64\n",
              "gender        int64\n",
              "img_name     object\n",
              "pixels       object\n",
              "dtype: object"
            ]
          },
          "metadata": {
            "tags": []
          },
          "execution_count": 7
        }
      ]
    },
    {
      "cell_type": "code",
      "metadata": {
        "colab": {
          "base_uri": "https://localhost:8080/"
        },
        "id": "X3mSAsDLo0Tz",
        "outputId": "7c8292e6-aa3e-4cf6-c475-e17dc0276001"
      },
      "source": [
        "data['ethnicity'].value_counts()"
      ],
      "execution_count": 8,
      "outputs": [
        {
          "output_type": "execute_result",
          "data": {
            "text/plain": [
              "0    10078\n",
              "1     4526\n",
              "3     3975\n",
              "2     3434\n",
              "4     1692\n",
              "Name: ethnicity, dtype: int64"
            ]
          },
          "metadata": {
            "tags": []
          },
          "execution_count": 8
        }
      ]
    },
    {
      "cell_type": "code",
      "metadata": {
        "colab": {
          "base_uri": "https://localhost:8080/"
        },
        "id": "g2_nffzuwpr8",
        "outputId": "dd563cdb-d908-4a4d-ad47-06a554b2e37c"
      },
      "source": [
        "data['gender'].value_counts()"
      ],
      "execution_count": 9,
      "outputs": [
        {
          "output_type": "execute_result",
          "data": {
            "text/plain": [
              "0    12391\n",
              "1    11314\n",
              "Name: gender, dtype: int64"
            ]
          },
          "metadata": {
            "tags": []
          },
          "execution_count": 9
        }
      ]
    },
    {
      "cell_type": "code",
      "metadata": {
        "id": "XrpmFXHpwhLO"
      },
      "source": [
        "data = data.drop('ethnicity', axis=1)"
      ],
      "execution_count": 10,
      "outputs": []
    },
    {
      "cell_type": "code",
      "metadata": {
        "id": "jpJ4INahjDSr"
      },
      "source": [
        "age = data['age'].values\n",
        "gender = data['gender'].values"
      ],
      "execution_count": 11,
      "outputs": []
    },
    {
      "cell_type": "code",
      "metadata": {
        "id": "A_OXJdTRw79n"
      },
      "source": [
        "pixels = data['pixels']"
      ],
      "execution_count": 12,
      "outputs": []
    },
    {
      "cell_type": "code",
      "metadata": {
        "id": "vqUvIbh2xA5H"
      },
      "source": [
        "from tqdm import tqdm\n",
        "def get_img(images):\n",
        "  imgs = []\n",
        "  for pixels in tqdm(images):\n",
        "    pixels = pixels.split()\n",
        "    img = [int(i) for i in pixels]\n",
        "    imgs.append(np.array(img)/255.0)\n",
        "  imgs = np.array(imgs).reshape(-1, 48, 48, 1)\n",
        "  return imgs"
      ],
      "execution_count": 13,
      "outputs": []
    },
    {
      "cell_type": "code",
      "metadata": {
        "colab": {
          "base_uri": "https://localhost:8080/"
        },
        "id": "K0oY5sxmylQe",
        "outputId": "9593e536-4342-480c-8f55-72e8836586dd"
      },
      "source": [
        "imgs = get_img(pixels)"
      ],
      "execution_count": 14,
      "outputs": [
        {
          "output_type": "stream",
          "text": [
            "100%|██████████| 23705/23705 [00:14<00:00, 1628.95it/s]\n"
          ],
          "name": "stderr"
        }
      ]
    },
    {
      "cell_type": "code",
      "metadata": {
        "id": "zuDnYMVFy8fk"
      },
      "source": [
        "img = keras.layers.Input(shape=(48, 48, 1))\n",
        "x = keras.layers.Conv2D(filters=32, kernel_size=5, activation='relu', padding='same')(img)\n",
        "x = keras.layers.BatchNormalization()(x)\n",
        "x = keras.layers.Conv2D(filters=64, kernel_size=3, activation='relu', padding='same')(x)\n",
        "x = keras.layers.BatchNormalization()(x)\n",
        "x = keras.layers.MaxPooling2D(2,2)(x)\n",
        "\n",
        "\n",
        "x1 = keras.layers.Conv2D(filters=128, kernel_size=3, activation='relu', padding='same')(x)\n",
        "x1 = keras.layers.BatchNormalization()(x1)\n",
        "x1 = keras.layers.MaxPooling2D(2,2)(x1)\n",
        "x1 = keras.layers.Flatten()(x1)\n",
        "x1 = keras.layers.Dense(32, activation='relu')(x1)\n",
        "x1 = keras.layers.Dropout(0.2)(x1)\n",
        "out1 = keras.layers.Dense(1, name='out1')(x1)\n",
        "\n",
        "x2 = keras.layers.Conv2D(filters=128, kernel_size=3, activation='relu', padding='same')(x)\n",
        "x2 = keras.layers.BatchNormalization()(x2)\n",
        "x2 = keras.layers.MaxPooling2D(2,2)(x2)\n",
        "x2 = keras.layers.Flatten()(x2)\n",
        "x2 = keras.layers.Dense(32, activation='relu')(x2)\n",
        "x2 = keras.layers.Dropout(0.2)(x2)\n",
        "out2 = keras.layers.Dense(1, activation='sigmoid', name='out2')(x2)\n",
        "\n",
        "model = keras.models.Model(img, [out1, out2])\n",
        "\n",
        "model.compile(loss={'out1':'mae', 'out2':'binary_crossentropy'}, optimizer=keras.optimizers.Adam(0.0001), loss_weights={'out1':2, 'out2':1}, metrics={'out2':['accuracy']})"
      ],
      "execution_count": 15,
      "outputs": []
    },
    {
      "cell_type": "code",
      "metadata": {
        "id": "a2uhV_pf-0WP"
      },
      "source": [
        "class myCallback(keras.callbacks.Callback):\n",
        "  best = 999\n",
        "  def on_epoch_end(self, epoch, logs={}):\n",
        "    if logs.get('val_loss') < self.best:\n",
        "      self.best = logs.get('val_loss')\n",
        "      model.save('best_model.hdf5')\n",
        "callback = myCallback()"
      ],
      "execution_count": 16,
      "outputs": []
    },
    {
      "cell_type": "code",
      "metadata": {
        "colab": {
          "base_uri": "https://localhost:8080/"
        },
        "id": "dVmFerqb2N0u",
        "outputId": "17928832-b78e-4c64-bb58-117e2a323261"
      },
      "source": [
        "history = model.fit(x=imgs, y=[age, gender], batch_size=32, epochs=50, validation_split=0.2, callbacks=[callback])"
      ],
      "execution_count": 17,
      "outputs": [
        {
          "output_type": "stream",
          "text": [
            "Epoch 1/50\n",
            "593/593 [==============================] - 12s 15ms/step - loss: 19.6137 - out1_loss: 9.5949 - out2_loss: 0.4239 - out2_accuracy: 0.7969 - val_loss: 80.3562 - val_out1_loss: 39.9640 - val_out2_loss: 0.4282 - val_out2_accuracy: 0.8000\n",
            "Epoch 2/50\n",
            "593/593 [==============================] - 8s 13ms/step - loss: 13.4053 - out1_loss: 6.5755 - out2_loss: 0.2542 - out2_accuracy: 0.8873 - val_loss: 53.4277 - val_out1_loss: 26.5258 - val_out2_loss: 0.3762 - val_out2_accuracy: 0.8340\n",
            "Epoch 3/50\n",
            "593/593 [==============================] - 8s 13ms/step - loss: 12.2596 - out1_loss: 6.0268 - out2_loss: 0.2060 - out2_accuracy: 0.9123 - val_loss: 46.7132 - val_out1_loss: 23.1476 - val_out2_loss: 0.4179 - val_out2_accuracy: 0.8243\n",
            "Epoch 4/50\n",
            "593/593 [==============================] - 8s 14ms/step - loss: 11.8158 - out1_loss: 5.8189 - out2_loss: 0.1779 - out2_accuracy: 0.9258 - val_loss: 46.6137 - val_out1_loss: 23.1315 - val_out2_loss: 0.3506 - val_out2_accuracy: 0.8574\n",
            "Epoch 5/50\n",
            "593/593 [==============================] - 8s 13ms/step - loss: 11.4234 - out1_loss: 5.6383 - out2_loss: 0.1469 - out2_accuracy: 0.9391 - val_loss: 46.2008 - val_out1_loss: 22.9212 - val_out2_loss: 0.3584 - val_out2_accuracy: 0.8570\n",
            "Epoch 6/50\n",
            "593/593 [==============================] - 8s 14ms/step - loss: 11.0252 - out1_loss: 5.4468 - out2_loss: 0.1316 - out2_accuracy: 0.9488 - val_loss: 47.2674 - val_out1_loss: 23.4470 - val_out2_loss: 0.3735 - val_out2_accuracy: 0.8614\n",
            "Epoch 7/50\n",
            "593/593 [==============================] - 8s 13ms/step - loss: 10.7000 - out1_loss: 5.2937 - out2_loss: 0.1126 - out2_accuracy: 0.9567 - val_loss: 49.7427 - val_out1_loss: 24.6744 - val_out2_loss: 0.3939 - val_out2_accuracy: 0.8568\n",
            "Epoch 8/50\n",
            "593/593 [==============================] - 8s 13ms/step - loss: 10.6456 - out1_loss: 5.2769 - out2_loss: 0.0918 - out2_accuracy: 0.9637 - val_loss: 46.1462 - val_out1_loss: 22.8589 - val_out2_loss: 0.4285 - val_out2_accuracy: 0.8671\n",
            "Epoch 9/50\n",
            "593/593 [==============================] - 8s 14ms/step - loss: 10.3405 - out1_loss: 5.1309 - out2_loss: 0.0787 - out2_accuracy: 0.9697 - val_loss: 42.7809 - val_out1_loss: 21.1722 - val_out2_loss: 0.4365 - val_out2_accuracy: 0.8661\n",
            "Epoch 10/50\n",
            "593/593 [==============================] - 8s 13ms/step - loss: 10.0136 - out1_loss: 4.9721 - out2_loss: 0.0694 - out2_accuracy: 0.9733 - val_loss: 47.1114 - val_out1_loss: 23.3297 - val_out2_loss: 0.4520 - val_out2_accuracy: 0.8602\n",
            "Epoch 11/50\n",
            "593/593 [==============================] - 8s 14ms/step - loss: 9.7507 - out1_loss: 4.8454 - out2_loss: 0.0598 - out2_accuracy: 0.9779 - val_loss: 41.9759 - val_out1_loss: 20.7547 - val_out2_loss: 0.4665 - val_out2_accuracy: 0.8616\n",
            "Epoch 12/50\n",
            "593/593 [==============================] - 8s 14ms/step - loss: 9.5471 - out1_loss: 4.7492 - out2_loss: 0.0488 - out2_accuracy: 0.9823 - val_loss: 43.7817 - val_out1_loss: 21.6472 - val_out2_loss: 0.4872 - val_out2_accuracy: 0.8608\n",
            "Epoch 13/50\n",
            "593/593 [==============================] - 8s 14ms/step - loss: 9.4490 - out1_loss: 4.7045 - out2_loss: 0.0400 - out2_accuracy: 0.9858 - val_loss: 41.1808 - val_out1_loss: 20.3465 - val_out2_loss: 0.4878 - val_out2_accuracy: 0.8661\n",
            "Epoch 14/50\n",
            "593/593 [==============================] - 8s 13ms/step - loss: 9.2413 - out1_loss: 4.5985 - out2_loss: 0.0443 - out2_accuracy: 0.9840 - val_loss: 39.7241 - val_out1_loss: 19.5930 - val_out2_loss: 0.5380 - val_out2_accuracy: 0.8553\n",
            "Epoch 15/50\n",
            "593/593 [==============================] - 8s 14ms/step - loss: 9.1702 - out1_loss: 4.5692 - out2_loss: 0.0317 - out2_accuracy: 0.9898 - val_loss: 43.7182 - val_out1_loss: 21.5621 - val_out2_loss: 0.5940 - val_out2_accuracy: 0.8547\n",
            "Epoch 16/50\n",
            "593/593 [==============================] - 8s 14ms/step - loss: 8.8784 - out1_loss: 4.4250 - out2_loss: 0.0283 - out2_accuracy: 0.9892 - val_loss: 44.5849 - val_out1_loss: 22.0043 - val_out2_loss: 0.5763 - val_out2_accuracy: 0.8606\n",
            "Epoch 17/50\n",
            "593/593 [==============================] - 8s 14ms/step - loss: 8.7948 - out1_loss: 4.3851 - out2_loss: 0.0246 - out2_accuracy: 0.9908 - val_loss: 42.4560 - val_out1_loss: 20.9417 - val_out2_loss: 0.5725 - val_out2_accuracy: 0.8595\n",
            "Epoch 18/50\n",
            "593/593 [==============================] - 8s 14ms/step - loss: 8.7675 - out1_loss: 4.3718 - out2_loss: 0.0239 - out2_accuracy: 0.9924 - val_loss: 41.7847 - val_out1_loss: 20.5620 - val_out2_loss: 0.6607 - val_out2_accuracy: 0.8557\n",
            "Epoch 19/50\n",
            "593/593 [==============================] - 8s 14ms/step - loss: 8.5963 - out1_loss: 4.2836 - out2_loss: 0.0290 - out2_accuracy: 0.9885 - val_loss: 41.9798 - val_out1_loss: 20.6863 - val_out2_loss: 0.6072 - val_out2_accuracy: 0.8656\n",
            "Epoch 20/50\n",
            "593/593 [==============================] - 8s 14ms/step - loss: 8.6148 - out1_loss: 4.2946 - out2_loss: 0.0257 - out2_accuracy: 0.9896 - val_loss: 38.9568 - val_out1_loss: 19.1187 - val_out2_loss: 0.7195 - val_out2_accuracy: 0.8652\n",
            "Epoch 21/50\n",
            "593/593 [==============================] - 8s 14ms/step - loss: 8.4626 - out1_loss: 4.2194 - out2_loss: 0.0237 - out2_accuracy: 0.9903 - val_loss: 39.4156 - val_out1_loss: 19.3795 - val_out2_loss: 0.6566 - val_out2_accuracy: 0.8640\n",
            "Epoch 22/50\n",
            "593/593 [==============================] - 8s 14ms/step - loss: 8.4464 - out1_loss: 4.2136 - out2_loss: 0.0193 - out2_accuracy: 0.9928 - val_loss: 42.6399 - val_out1_loss: 20.8568 - val_out2_loss: 0.9262 - val_out2_accuracy: 0.8473\n",
            "Epoch 23/50\n",
            "593/593 [==============================] - 8s 14ms/step - loss: 8.3639 - out1_loss: 4.1715 - out2_loss: 0.0209 - out2_accuracy: 0.9920 - val_loss: 39.9748 - val_out1_loss: 19.5951 - val_out2_loss: 0.7846 - val_out2_accuracy: 0.8532\n",
            "Epoch 24/50\n",
            "593/593 [==============================] - 8s 14ms/step - loss: 8.3164 - out1_loss: 4.1471 - out2_loss: 0.0221 - out2_accuracy: 0.9910 - val_loss: 45.6898 - val_out1_loss: 22.5248 - val_out2_loss: 0.6402 - val_out2_accuracy: 0.8646\n",
            "Epoch 25/50\n",
            "593/593 [==============================] - 8s 14ms/step - loss: 8.2700 - out1_loss: 4.1261 - out2_loss: 0.0177 - out2_accuracy: 0.9932 - val_loss: 44.9233 - val_out1_loss: 22.0874 - val_out2_loss: 0.7486 - val_out2_accuracy: 0.8606\n",
            "Epoch 26/50\n",
            "593/593 [==============================] - 8s 14ms/step - loss: 8.1815 - out1_loss: 4.0833 - out2_loss: 0.0149 - out2_accuracy: 0.9932 - val_loss: 43.4649 - val_out1_loss: 21.3702 - val_out2_loss: 0.7245 - val_out2_accuracy: 0.8587\n",
            "Epoch 27/50\n",
            "593/593 [==============================] - 8s 14ms/step - loss: 8.0844 - out1_loss: 4.0342 - out2_loss: 0.0161 - out2_accuracy: 0.9931 - val_loss: 40.8886 - val_out1_loss: 20.0818 - val_out2_loss: 0.7249 - val_out2_accuracy: 0.8549\n",
            "Epoch 28/50\n",
            "593/593 [==============================] - 8s 14ms/step - loss: 8.0126 - out1_loss: 3.9999 - out2_loss: 0.0128 - out2_accuracy: 0.9947 - val_loss: 42.2333 - val_out1_loss: 20.7374 - val_out2_loss: 0.7584 - val_out2_accuracy: 0.8530\n",
            "Epoch 29/50\n",
            "593/593 [==============================] - 8s 14ms/step - loss: 7.9388 - out1_loss: 3.9591 - out2_loss: 0.0206 - out2_accuracy: 0.9907 - val_loss: 44.8719 - val_out1_loss: 21.9811 - val_out2_loss: 0.9096 - val_out2_accuracy: 0.8557\n",
            "Epoch 30/50\n",
            "593/593 [==============================] - 8s 14ms/step - loss: 7.9716 - out1_loss: 3.9780 - out2_loss: 0.0156 - out2_accuracy: 0.9930 - val_loss: 42.9183 - val_out1_loss: 21.0719 - val_out2_loss: 0.7746 - val_out2_accuracy: 0.8587\n",
            "Epoch 31/50\n",
            "593/593 [==============================] - 8s 14ms/step - loss: 7.8274 - out1_loss: 3.9035 - out2_loss: 0.0204 - out2_accuracy: 0.9922 - val_loss: 42.3572 - val_out1_loss: 20.7438 - val_out2_loss: 0.8697 - val_out2_accuracy: 0.8610\n",
            "Epoch 32/50\n",
            "593/593 [==============================] - 8s 14ms/step - loss: 7.9060 - out1_loss: 3.9446 - out2_loss: 0.0167 - out2_accuracy: 0.9927 - val_loss: 39.1759 - val_out1_loss: 19.1777 - val_out2_loss: 0.8206 - val_out2_accuracy: 0.8536\n",
            "Epoch 33/50\n",
            "593/593 [==============================] - 8s 14ms/step - loss: 7.6586 - out1_loss: 3.8233 - out2_loss: 0.0120 - out2_accuracy: 0.9951 - val_loss: 42.8639 - val_out1_loss: 20.9529 - val_out2_loss: 0.9580 - val_out2_accuracy: 0.8467\n",
            "Epoch 34/50\n",
            "593/593 [==============================] - 8s 14ms/step - loss: 7.7564 - out1_loss: 3.8708 - out2_loss: 0.0148 - out2_accuracy: 0.9936 - val_loss: 43.9968 - val_out1_loss: 21.6241 - val_out2_loss: 0.7485 - val_out2_accuracy: 0.8642\n",
            "Epoch 35/50\n",
            "593/593 [==============================] - 8s 14ms/step - loss: 7.7006 - out1_loss: 3.8425 - out2_loss: 0.0156 - out2_accuracy: 0.9930 - val_loss: 40.4366 - val_out1_loss: 19.8231 - val_out2_loss: 0.7904 - val_out2_accuracy: 0.8547\n",
            "Epoch 36/50\n",
            "593/593 [==============================] - 8s 14ms/step - loss: 7.6518 - out1_loss: 3.8187 - out2_loss: 0.0144 - out2_accuracy: 0.9937 - val_loss: 42.1839 - val_out1_loss: 20.6592 - val_out2_loss: 0.8655 - val_out2_accuracy: 0.8526\n",
            "Epoch 37/50\n",
            "593/593 [==============================] - 8s 14ms/step - loss: 7.5665 - out1_loss: 3.7770 - out2_loss: 0.0125 - out2_accuracy: 0.9933 - val_loss: 40.9164 - val_out1_loss: 19.9727 - val_out2_loss: 0.9710 - val_out2_accuracy: 0.8644\n",
            "Epoch 38/50\n",
            "593/593 [==============================] - 8s 14ms/step - loss: 7.6297 - out1_loss: 3.8082 - out2_loss: 0.0134 - out2_accuracy: 0.9930 - val_loss: 43.1178 - val_out1_loss: 21.1346 - val_out2_loss: 0.8487 - val_out2_accuracy: 0.8574\n",
            "Epoch 39/50\n",
            "593/593 [==============================] - 8s 14ms/step - loss: 7.6083 - out1_loss: 3.7974 - out2_loss: 0.0134 - out2_accuracy: 0.9945 - val_loss: 43.7481 - val_out1_loss: 21.4181 - val_out2_loss: 0.9120 - val_out2_accuracy: 0.8606\n",
            "Epoch 40/50\n",
            "593/593 [==============================] - 8s 14ms/step - loss: 7.4646 - out1_loss: 3.7252 - out2_loss: 0.0142 - out2_accuracy: 0.9941 - val_loss: 43.5120 - val_out1_loss: 21.3714 - val_out2_loss: 0.7692 - val_out2_accuracy: 0.8536\n",
            "Epoch 41/50\n",
            "593/593 [==============================] - 8s 14ms/step - loss: 7.4116 - out1_loss: 3.7006 - out2_loss: 0.0103 - out2_accuracy: 0.9947 - val_loss: 40.5427 - val_out1_loss: 19.7760 - val_out2_loss: 0.9907 - val_out2_accuracy: 0.8524\n",
            "Epoch 42/50\n",
            "593/593 [==============================] - 8s 14ms/step - loss: 7.4520 - out1_loss: 3.7189 - out2_loss: 0.0142 - out2_accuracy: 0.9940 - val_loss: 42.1098 - val_out1_loss: 20.4741 - val_out2_loss: 1.1616 - val_out2_accuracy: 0.8631\n",
            "Epoch 43/50\n",
            "593/593 [==============================] - 8s 14ms/step - loss: 7.4911 - out1_loss: 3.7391 - out2_loss: 0.0130 - out2_accuracy: 0.9952 - val_loss: 38.6596 - val_out1_loss: 18.9023 - val_out2_loss: 0.8550 - val_out2_accuracy: 0.8549\n",
            "Epoch 44/50\n",
            "593/593 [==============================] - 8s 14ms/step - loss: 7.4571 - out1_loss: 3.7203 - out2_loss: 0.0165 - out2_accuracy: 0.9931 - val_loss: 39.9499 - val_out1_loss: 19.5327 - val_out2_loss: 0.8844 - val_out2_accuracy: 0.8578\n",
            "Epoch 45/50\n",
            "593/593 [==============================] - 8s 14ms/step - loss: 7.2973 - out1_loss: 3.6425 - out2_loss: 0.0124 - out2_accuracy: 0.9936 - val_loss: 40.3246 - val_out1_loss: 19.6270 - val_out2_loss: 1.0705 - val_out2_accuracy: 0.8591\n",
            "Epoch 46/50\n",
            "593/593 [==============================] - 8s 14ms/step - loss: 7.4430 - out1_loss: 3.7146 - out2_loss: 0.0139 - out2_accuracy: 0.9929 - val_loss: 40.6082 - val_out1_loss: 19.8508 - val_out2_loss: 0.9065 - val_out2_accuracy: 0.8604\n",
            "Epoch 47/50\n",
            "593/593 [==============================] - 8s 14ms/step - loss: 7.3277 - out1_loss: 3.6579 - out2_loss: 0.0119 - out2_accuracy: 0.9942 - val_loss: 43.2208 - val_out1_loss: 21.0589 - val_out2_loss: 1.1031 - val_out2_accuracy: 0.8564\n",
            "Epoch 48/50\n",
            "593/593 [==============================] - 8s 14ms/step - loss: 7.3411 - out1_loss: 3.6633 - out2_loss: 0.0144 - out2_accuracy: 0.9933 - val_loss: 43.1919 - val_out1_loss: 21.1130 - val_out2_loss: 0.9660 - val_out2_accuracy: 0.8593\n",
            "Epoch 49/50\n",
            "593/593 [==============================] - 8s 14ms/step - loss: 7.2159 - out1_loss: 3.6012 - out2_loss: 0.0136 - out2_accuracy: 0.9943 - val_loss: 38.4751 - val_out1_loss: 18.7005 - val_out2_loss: 1.0740 - val_out2_accuracy: 0.8608\n",
            "Epoch 50/50\n",
            "593/593 [==============================] - 8s 14ms/step - loss: 7.1883 - out1_loss: 3.5882 - out2_loss: 0.0120 - out2_accuracy: 0.9944 - val_loss: 43.3407 - val_out1_loss: 21.1964 - val_out2_loss: 0.9479 - val_out2_accuracy: 0.8545\n"
          ],
          "name": "stdout"
        }
      ]
    },
    {
      "cell_type": "code",
      "metadata": {
        "colab": {
          "base_uri": "https://localhost:8080/"
        },
        "id": "kbZJ5rBg4Hvn",
        "outputId": "3398b6ec-fde7-44ea-f7ce-6837916a3f52"
      },
      "source": [
        "gender"
      ],
      "execution_count": 20,
      "outputs": [
        {
          "output_type": "execute_result",
          "data": {
            "text/plain": [
              "array([0, 0, 0, ..., 1, 1, 1])"
            ]
          },
          "metadata": {
            "tags": []
          },
          "execution_count": 20
        }
      ]
    },
    {
      "cell_type": "code",
      "metadata": {
        "id": "r8jH1lh44I_A"
      },
      "source": [
        ""
      ],
      "execution_count": 20,
      "outputs": []
    }
  ]
}