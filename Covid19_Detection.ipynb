{
  "nbformat": 4,
  "nbformat_minor": 0,
  "metadata": {
    "colab": {
      "name": "Covid19 Detection.ipynb",
      "provenance": []
    },
    "kernelspec": {
      "name": "python3",
      "display_name": "Python 3"
    },
    "language_info": {
      "name": "python"
    },
    "accelerator": "GPU"
  },
  "cells": [
    {
      "cell_type": "code",
      "metadata": {
        "id": "veFn6SXwyJ0p"
      },
      "source": [
        "import os\n",
        "import numpy as np\n",
        "import pandas as pd\n",
        "from tensorflow import keras\n",
        "os.environ['KAGGLE_USERNAME'] = \"aminnajaf\"\n",
        "os.environ['KAGGLE_KEY'] = \"fcbc4abc30fb80fcedc3e58ce65eed9c\""
      ],
      "execution_count": 1,
      "outputs": []
    },
    {
      "cell_type": "code",
      "metadata": {
        "colab": {
          "base_uri": "https://localhost:8080/"
        },
        "id": "ucaemzX9ygC4",
        "outputId": "e17e275f-9909-40e8-b84e-1225748b4717"
      },
      "source": [
        "!kaggle datasets download -d maedemaftouni/large-covid19-ct-slice-dataset"
      ],
      "execution_count": 2,
      "outputs": [
        {
          "output_type": "stream",
          "text": [
            "large-covid19-ct-slice-dataset.zip: Skipping, found more recently modified local copy (use --force to force download)\n"
          ],
          "name": "stdout"
        }
      ]
    },
    {
      "cell_type": "code",
      "metadata": {
        "id": "gxIxrJRnyi3o"
      },
      "source": [
        "from zipfile import ZipFile"
      ],
      "execution_count": 3,
      "outputs": []
    },
    {
      "cell_type": "code",
      "metadata": {
        "id": "UViJCnAHymsY"
      },
      "source": [
        "with ZipFile('/content/large-covid19-ct-slice-dataset.zip', 'r') as zipObj:\n",
        "   zipObj.extractall()"
      ],
      "execution_count": 4,
      "outputs": []
    },
    {
      "cell_type": "code",
      "metadata": {
        "id": "tWhs7Ju_AVje"
      },
      "source": [
        "train_data_dir = '/content/curated_data/'"
      ],
      "execution_count": 5,
      "outputs": []
    },
    {
      "cell_type": "code",
      "metadata": {
        "colab": {
          "base_uri": "https://localhost:8080/"
        },
        "id": "EXJx_cY7yoSw",
        "outputId": "22da2278-91ad-45ff-b831-3653fb82aa36"
      },
      "source": [
        "train_datagen = keras.preprocessing.image.ImageDataGenerator(rescale=1./255, validation_split=0.2, rotation_range=20, width_shift_range=20.0, height_shift_range=20.0,)\n",
        "train_generator = train_datagen.flow_from_directory(train_data_dir, target_size=(150, 150), batch_size=32, class_mode='categorical', subset='training')\n",
        "validation_generator = train_datagen.flow_from_directory(train_data_dir, target_size=(150, 150), batch_size=32, class_mode='categorical', subset='validation')"
      ],
      "execution_count": 6,
      "outputs": [
        {
          "output_type": "stream",
          "text": [
            "Found 13685 images belonging to 3 classes.\n",
            "Found 3419 images belonging to 3 classes.\n"
          ],
          "name": "stdout"
        }
      ]
    },
    {
      "cell_type": "code",
      "metadata": {
        "id": "68inIB9iA-Iv"
      },
      "source": [
        "img = keras.layers.Input(shape=(150, 150, 3))\n",
        "x = keras.layers.Conv2D(filters=32, kernel_size=5, padding='valid', activation='relu')(img)\n",
        "x = keras.layers.BatchNormalization()(x)\n",
        "x = keras.layers.MaxPooling2D(2,2)(x)\n",
        "x = keras.layers.Conv2D(filters=64, kernel_size=3, padding='same', activation='relu')(img)\n",
        "x = keras.layers.BatchNormalization()(x)\n",
        "x = keras.layers.MaxPooling2D(2,2)(x)\n",
        "x = keras.layers.Conv2D(filters=128, kernel_size=3, padding='same', activation='relu')(img)\n",
        "x = keras.layers.BatchNormalization()(x)\n",
        "x = keras.layers.MaxPooling2D(2,2)(x)\n",
        "x = keras.layers.Flatten()(x)\n",
        "x = keras.layers.Dense(128, activation='relu')(x)\n",
        "x = keras.layers.Dropout(0.5)(x)\n",
        "x = keras.layers.Dense(3, activation='softmax')(x)\n",
        "\n",
        "model = keras.models.Model(img, x)\n",
        "\n",
        "model.compile(loss='categorical_crossentropy', optimizer=keras.optimizers.Adam(0.001), metrics = ['accuracy'])"
      ],
      "execution_count": 7,
      "outputs": []
    },
    {
      "cell_type": "code",
      "metadata": {
        "id": "_RfB3FPZDgcG"
      },
      "source": [
        "from sklearn.utils.class_weight import compute_class_weight\n",
        "classes = np.unique(train_generator.classes)\n",
        "y = train_generator.labels\n",
        "class_weights = compute_class_weight('balanced', classes=classes, y=y)\n",
        "class_dict = {}\n",
        "for i in classes:\n",
        "  class_dict[i] = class_weights[i]"
      ],
      "execution_count": 8,
      "outputs": []
    },
    {
      "cell_type": "code",
      "metadata": {
        "id": "cMO4rSDTRfTl"
      },
      "source": [
        "class myCallback(keras.callbacks.Callback):\n",
        "  best = 999\n",
        "  def on_epoch_end(self, epoch, logs={}):\n",
        "    if logs.get('val_loss') < self.best:\n",
        "      self.best = logs.get('val_loss')\n",
        "      model.save('best_model.hdf5')\n",
        "callback = myCallback()"
      ],
      "execution_count": 9,
      "outputs": []
    },
    {
      "cell_type": "code",
      "metadata": {
        "colab": {
          "base_uri": "https://localhost:8080/"
        },
        "id": "fL-klsRY2AP4",
        "outputId": "df91cbc4-c311-4643-9ead-4542e67d8567"
      },
      "source": [
        "model.fit_generator(\n",
        "    train_generator,\n",
        "    steps_per_epoch = int(train_generator.samples / 32),\n",
        "    validation_data = validation_generator, \n",
        "    validation_steps = int(validation_generator.samples / 32),\n",
        "    epochs = 20,\n"
        "    callbacks = [callback]),"
      ],
      "execution_count": 10,
      "outputs": [
        {
          "output_type": "stream",
          "text": [
            "/usr/local/lib/python3.7/dist-packages/tensorflow/python/keras/engine/training.py:1844: UserWarning: `Model.fit_generator` is deprecated and will be removed in a future version. Please use `Model.fit`, which supports generators.\n",
            "  warnings.warn('`Model.fit_generator` is deprecated and '\n"
          ],
          "name": "stderr"
        },
        {
          "output_type": "stream",
          "text": [
            "Epoch 1/20\n",
            "427/427 [==============================] - 165s 315ms/step - loss: 8.8133 - accuracy: 0.5410 - val_loss: 1.0214 - val_accuracy: 0.4396\n",
            "Epoch 2/20\n",
            "427/427 [==============================] - 133s 313ms/step - loss: 0.8320 - accuracy: 0.6237 - val_loss: 1.5758 - val_accuracy: 0.5451\n",
            "Epoch 3/20\n",
            "427/427 [==============================] - 133s 311ms/step - loss: 0.8184 - accuracy: 0.6325 - val_loss: 0.8231 - val_accuracy: 0.7600\n",
            "Epoch 4/20\n",
            "427/427 [==============================] - 133s 310ms/step - loss: 0.8127 - accuracy: 0.6351 - val_loss: 0.8271 - val_accuracy: 0.7326\n",
            "Epoch 5/20\n",
            "427/427 [==============================] - 132s 310ms/step - loss: 0.7931 - accuracy: 0.6416 - val_loss: 0.6178 - val_accuracy: 0.8337\n",
            "Epoch 6/20\n",
            "427/427 [==============================] - 132s 309ms/step - loss: 0.7897 - accuracy: 0.6448 - val_loss: 0.8890 - val_accuracy: 0.6212\n",
            "Epoch 7/20\n",
            "427/427 [==============================] - 132s 309ms/step - loss: 0.7802 - accuracy: 0.6400 - val_loss: 0.9969 - val_accuracy: 0.6607\n",
            "Epoch 8/20\n",
            "427/427 [==============================] - 133s 312ms/step - loss: 0.7817 - accuracy: 0.6391 - val_loss: 0.6166 - val_accuracy: 0.7745\n",
            "Epoch 9/20\n",
            "427/427 [==============================] - 133s 312ms/step - loss: 0.7601 - accuracy: 0.6565 - val_loss: 0.5851 - val_accuracy: 0.8096\n",
            "Epoch 10/20\n",
            "427/427 [==============================] - 132s 309ms/step - loss: 0.7471 - accuracy: 0.6632 - val_loss: 0.6354 - val_accuracy: 0.8325\n",
            "Epoch 11/20\n",
            "427/427 [==============================] - 132s 309ms/step - loss: 0.7541 - accuracy: 0.6632 - val_loss: 0.6259 - val_accuracy: 0.7297\n",
            "Epoch 12/20\n",
            "427/427 [==============================] - 132s 308ms/step - loss: 0.7431 - accuracy: 0.6682 - val_loss: 0.7609 - val_accuracy: 0.6801\n",
            "Epoch 13/20\n",
            "427/427 [==============================] - 132s 308ms/step - loss: 0.7513 - accuracy: 0.6648 - val_loss: 0.6995 - val_accuracy: 0.7244\n",
            "Epoch 14/20\n",
            "427/427 [==============================] - 131s 308ms/step - loss: 0.7484 - accuracy: 0.6661 - val_loss: 0.8213 - val_accuracy: 0.5929\n",
            "Epoch 15/20\n",
            "427/427 [==============================] - 131s 308ms/step - loss: 0.7142 - accuracy: 0.6897 - val_loss: 0.8373 - val_accuracy: 0.6223\n",
            "Epoch 16/20\n",
            "427/427 [==============================] - 131s 308ms/step - loss: 0.7348 - accuracy: 0.6671 - val_loss: 1.1796 - val_accuracy: 0.5454\n",
            "Epoch 17/20\n",
            "427/427 [==============================] - 131s 307ms/step - loss: 0.7270 - accuracy: 0.6806 - val_loss: 0.7205 - val_accuracy: 0.6958\n",
            "Epoch 18/20\n",
            "427/427 [==============================] - 131s 308ms/step - loss: 0.7421 - accuracy: 0.6670 - val_loss: 0.6467 - val_accuracy: 0.7597\n",
            "Epoch 19/20\n",
            "427/427 [==============================] - 131s 308ms/step - loss: 0.7389 - accuracy: 0.6824 - val_loss: 0.8594 - val_accuracy: 0.6085\n",
            "Epoch 20/20\n",
            "427/427 [==============================] - 131s 307ms/step - loss: 0.7340 - accuracy: 0.6683 - val_loss: 0.6366 - val_accuracy: 0.6695\n"
          ],
          "name": "stdout"
        },
        {
          "output_type": "execute_result",
          "data": {
            "text/plain": [
              "<tensorflow.python.keras.callbacks.History at 0x7fd39dc19e90>"
            ]
          },
          "metadata": {
            "tags": []
          },
          "execution_count": 10
        }
      ]
    },
    {
      "cell_type": "code",
      "metadata": {
        "id": "FFpLXQlNF9tO"
      },
      "source": [
        ""
      ],
      "execution_count": 10,
      "outputs": []
    }
  ]
}
